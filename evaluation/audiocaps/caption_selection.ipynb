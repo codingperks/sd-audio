{
 "cells": [
  {
   "attachments": {},
   "cell_type": "markdown",
   "metadata": {},
   "source": [
    "AudioCaps test data contains 5 captions for each sample. We need to randomly select one caption for each sample to generate our data"
   ]
  },
  {
   "cell_type": "code",
   "execution_count": null,
   "metadata": {},
   "outputs": [
    {
     "ename": "",
     "evalue": "",
     "output_type": "error",
     "traceback": [
      "\u001b[1;31mRunning cells with 'msc_diss' requires the ipykernel package.\n",
      "\u001b[1;31mRun the following command to install 'ipykernel' into the Python environment. \n",
      "\u001b[1;31mCommand: 'conda install -n msc_diss ipykernel --update-deps --force-reinstall'"
     ]
    }
   ],
   "source": [
    "def generate_caption_csv(input_csv, output_path):\n",
    "    # for every youtube_ID, randomly return one caption, save in df, spit out into separate file\n",
    "    # Read the CSV file into a DataFrame\n",
    "    df = pd.read_csv(input_csv)\n",
    "    \n",
    "    # Create an empty DataFrame to store sampled rows\n",
    "    selected_rows = pd.DataFrame(columns=df.columns)\n",
    "    \n",
    "    # Get unique youtube_ids\n",
    "    unique_youtube_ids = df['youtube_id'].unique()\n",
    "    \n",
    "    # Randomly sample one row for each unique youtube_id\n",
    "    for youtube_id in unique_youtube_ids:\n",
    "        rows = df[df['youtube_id'] == youtube_id]\n",
    "        sampled_row = rows.sample(n=1)\n",
    "        sampled_df = sampled_df.append(sampled_row, ignore_index=True)\n",
    "    \n",
    "    # Convert sampled DataFrame to JSON format\n",
    "    caption_json = selected_rows.to_json(orient='records')\n",
    "    \n",
    "    # Save JSON to file\n",
    "    with open(json_path, 'w') as f:\n",
    "        json.dump(json.loads(caption_json), f, indent=4)\n"
   ]
  },
  {
   "cell_type": "code",
   "execution_count": null,
   "metadata": {},
   "outputs": [
    {
     "ename": "",
     "evalue": "",
     "output_type": "error",
     "traceback": [
      "\u001b[1;31mRunning cells with 'msc_diss' requires the ipykernel package.\n",
      "\u001b[1;31mRun the following command to install 'ipykernel' into the Python environment. \n",
      "\u001b[1;31mCommand: 'conda install -n msc_diss ipykernel --update-deps --force-reinstall'"
     ]
    }
   ],
   "source": [
    "generate_caption_csv(\"../../data/audiocaps/dataset/test.csv\", \"test_captions.json\")"
   ]
  }
 ],
 "metadata": {
  "kernelspec": {
   "display_name": "msc_diss",
   "language": "python",
   "name": "python3"
  },
  "language_info": {
   "name": "python",
   "version": "3.10.11"
  },
  "orig_nbformat": 4,
  "vscode": {
   "interpreter": {
    "hash": "927977298957074974592afb32083d5119a68058bec82c8d0a9081db9b483b98"
   }
  }
 },
 "nbformat": 4,
 "nbformat_minor": 2
}
