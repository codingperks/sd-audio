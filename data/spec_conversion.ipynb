{
 "cells": [
  {
   "attachments": {},
   "cell_type": "markdown",
   "metadata": {},
   "source": [
    "Experiment with spec conversion"
   ]
  },
  {
   "cell_type": "code",
   "execution_count": 3,
   "metadata": {},
   "outputs": [],
   "source": [
    "from utils.spectrogram_converter import SpectrogramConverter\n",
    "from utils.spectrogram_params import SpectrogramParams\n",
    "from utils.riff_util import image_util\n",
    "import os\n",
    "import pydub\n",
    "import matplotlib.pyplot as plt\n",
    "import numpy as np\n",
    "from PIL import Image\n",
    "from IPython.display import Audio, display\n",
    "import typing as T\n",
    "from utils.spectrogram_image_converter import SpectrogramImageConverter"
   ]
  },
  {
   "cell_type": "code",
   "execution_count": 3,
   "metadata": {},
   "outputs": [],
   "source": [
    "converter = SpectrogramConverter(SpectrogramParams())"
   ]
  },
  {
   "cell_type": "code",
   "execution_count": 7,
   "metadata": {},
   "outputs": [],
   "source": [
    "def image_to_audio(image):\n",
    "     # Define named sets of parameters\n",
    "    param_sets: T.Dict[str, SpectrogramParams] = {}\n",
    "    \n",
    "    param_sets[\"default\"] = SpectrogramParams(\n",
    "        sample_rate=44100,\n",
    "        stereo=True,\n",
    "        step_size_ms=20,\n",
    "        min_frequency=20,\n",
    "        max_frequency=20000,\n",
    "        num_frequencies=512,\n",
    "    )\n",
    "    \n",
    "    converter = SpectrogramImageConverter(params=param_sets[\"default\"], device=\"cuda\")\n",
    "    segment = converter.audio_from_spectrogram_image(\n",
    "        image=image,\n",
    "        apply_filters=True\n",
    "    )\n",
    "    \n",
    "    # Convert to mono\n",
    "    segment = segment.set_channels(1)\n",
    "\n",
    "    \"\"\"     segment = segment.get_array_of_samples()\n",
    "    segment = np.array(segment)\n",
    " \"\"\"\n",
    "    return segment"
   ]
  },
  {
   "cell_type": "code",
   "execution_count": 8,
   "metadata": {},
   "outputs": [
    {
     "name": "stdout",
     "output_type": "stream",
     "text": [
      "Saved ./test/wav.wav\n"
     ]
    },
    {
     "data": {
      "text/plain": [
       "' # Save segments to disk\\nfor name, segment in segments.items():\\n    audio_out = spec_dest + \".wav\"\\n    segment.export(audio_out, format=\"wav\")\\n    print(f\"Saved {audio_out}\")\\n '"
      ]
     },
     "execution_count": 8,
     "metadata": {},
     "output_type": "execute_result"
    }
   ],
   "source": [
    "# Set up\n",
    "device = os.environ.get(\"RIFFUSION_TEST_DEVICE\", \"cuda\")\n",
    "\n",
    "# experiment label\n",
    "label = \"Bird vocalization-bird call-bird song\"\n",
    "\n",
    "# set paths\n",
    "spec_source = \"./test/spec\"\n",
    "wav_dest = \"./test/wav\"\n",
    "#wav_source = \"./AudioSet/wav/\" + label\n",
    "#spec_dest = \"./AudioSet/spec/\" + label\n",
    "\n",
    "for spec in os.listdir(spec_source):\n",
    "    file_path = os.path.join(spec_source, spec)\n",
    "\n",
    "    # Open the PNG file using PIL/Pillow\n",
    "    image = Image.open(file_path)\n",
    "\n",
    "    segment = image_to_audio(image)\n",
    "    \n",
    "    audio_out = wav_dest + \".wav\"\n",
    "    segment.export(audio_out, format=\"wav\")\n",
    "    print(f\"Saved {audio_out}\")\n",
    "    \n",
    "    \n",
    "   \n",
    "\n",
    "\"\"\"     # Save images to disk\n",
    "    for name, image in images.items():\n",
    "        image_out = spec_dest + \"/\" + os.fsdecode(wav) + \".png\"\n",
    "        image.save(image_out, exif=image.getexif(), format=\"PNG\")\n",
    "        print(f\"Saved {image_out}\") \"\"\"\n",
    "\n",
    "\"\"\" # Save segments to disk\n",
    "for name, segment in segments.items():\n",
    "    audio_out = spec_dest + \".wav\"\n",
    "    segment.export(audio_out, format=\"wav\")\n",
    "    print(f\"Saved {audio_out}\")\n",
    " \"\"\""
   ]
  },
  {
   "cell_type": "code",
   "execution_count": 4,
   "metadata": {},
   "outputs": [
    {
     "ename": "IndexError",
     "evalue": "list index out of range",
     "output_type": "error",
     "traceback": [
      "\u001b[0;31m---------------------------------------------------------------------------\u001b[0m",
      "\u001b[0;31mIndexError\u001b[0m                                Traceback (most recent call last)",
      "Cell \u001b[0;32mIn[4], line 16\u001b[0m\n\u001b[1;32m     12\u001b[0m os\u001b[39m.\u001b[39mmakedirs(spec_dest, exist_ok\u001b[39m=\u001b[39m\u001b[39mTrue\u001b[39;00m)\n\u001b[1;32m     14\u001b[0m \u001b[39mfor\u001b[39;00m wav \u001b[39min\u001b[39;00m os\u001b[39m.\u001b[39mlistdir(wav_source):\n\u001b[1;32m     15\u001b[0m     \u001b[39m# Convert wav to audiosegment\u001b[39;00m\n\u001b[0;32m---> 16\u001b[0m     segment \u001b[39m=\u001b[39m pydub\u001b[39m.\u001b[39;49mAudioSegment\u001b[39m.\u001b[39;49mfrom_wav(wav_source \u001b[39m+\u001b[39;49m \u001b[39m\"\u001b[39;49m\u001b[39m/\u001b[39;49m\u001b[39m\"\u001b[39;49m \u001b[39m+\u001b[39;49m wav)\n\u001b[1;32m     18\u001b[0m     \u001b[39m# Convert to mono if desired\u001b[39;00m\n\u001b[1;32m     19\u001b[0m     use_stereo \u001b[39m=\u001b[39m \u001b[39mFalse\u001b[39;00m\n",
      "File \u001b[0;32m~/miniconda3/envs/msc_diss/lib/python3.10/site-packages/pydub/audio_segment.py:808\u001b[0m, in \u001b[0;36mAudioSegment.from_wav\u001b[0;34m(cls, file, parameters)\u001b[0m\n\u001b[1;32m    806\u001b[0m \u001b[39m@classmethod\u001b[39m\n\u001b[1;32m    807\u001b[0m \u001b[39mdef\u001b[39;00m \u001b[39mfrom_wav\u001b[39m(\u001b[39mcls\u001b[39m, file, parameters\u001b[39m=\u001b[39m\u001b[39mNone\u001b[39;00m):\n\u001b[0;32m--> 808\u001b[0m     \u001b[39mreturn\u001b[39;00m \u001b[39mcls\u001b[39;49m\u001b[39m.\u001b[39;49mfrom_file(file, \u001b[39m'\u001b[39;49m\u001b[39mwav\u001b[39;49m\u001b[39m'\u001b[39;49m, parameters\u001b[39m=\u001b[39;49mparameters)\n",
      "File \u001b[0;32m~/miniconda3/envs/msc_diss/lib/python3.10/site-packages/pydub/audio_segment.py:734\u001b[0m, in \u001b[0;36mAudioSegment.from_file\u001b[0;34m(cls, file, format, codec, parameters, start_second, duration, **kwargs)\u001b[0m\n\u001b[1;32m    730\u001b[0m audio_streams \u001b[39m=\u001b[39m [x \u001b[39mfor\u001b[39;00m x \u001b[39min\u001b[39;00m info[\u001b[39m'\u001b[39m\u001b[39mstreams\u001b[39m\u001b[39m'\u001b[39m]\n\u001b[1;32m    731\u001b[0m                  \u001b[39mif\u001b[39;00m x[\u001b[39m'\u001b[39m\u001b[39mcodec_type\u001b[39m\u001b[39m'\u001b[39m] \u001b[39m==\u001b[39m \u001b[39m'\u001b[39m\u001b[39maudio\u001b[39m\u001b[39m'\u001b[39m]\n\u001b[1;32m    732\u001b[0m \u001b[39m# This is a workaround for some ffprobe versions that always say\u001b[39;00m\n\u001b[1;32m    733\u001b[0m \u001b[39m# that mp3/mp4/aac/webm/ogg files contain fltp samples\u001b[39;00m\n\u001b[0;32m--> 734\u001b[0m audio_codec \u001b[39m=\u001b[39m audio_streams[\u001b[39m0\u001b[39;49m]\u001b[39m.\u001b[39mget(\u001b[39m'\u001b[39m\u001b[39mcodec_name\u001b[39m\u001b[39m'\u001b[39m)\n\u001b[1;32m    735\u001b[0m \u001b[39mif\u001b[39;00m (audio_streams[\u001b[39m0\u001b[39m]\u001b[39m.\u001b[39mget(\u001b[39m'\u001b[39m\u001b[39msample_fmt\u001b[39m\u001b[39m'\u001b[39m) \u001b[39m==\u001b[39m \u001b[39m'\u001b[39m\u001b[39mfltp\u001b[39m\u001b[39m'\u001b[39m \u001b[39mand\u001b[39;00m\n\u001b[1;32m    736\u001b[0m         audio_codec \u001b[39min\u001b[39;00m [\u001b[39m'\u001b[39m\u001b[39mmp3\u001b[39m\u001b[39m'\u001b[39m, \u001b[39m'\u001b[39m\u001b[39mmp4\u001b[39m\u001b[39m'\u001b[39m, \u001b[39m'\u001b[39m\u001b[39maac\u001b[39m\u001b[39m'\u001b[39m, \u001b[39m'\u001b[39m\u001b[39mwebm\u001b[39m\u001b[39m'\u001b[39m, \u001b[39m'\u001b[39m\u001b[39mogg\u001b[39m\u001b[39m'\u001b[39m]):\n\u001b[1;32m    737\u001b[0m     bits_per_sample \u001b[39m=\u001b[39m \u001b[39m16\u001b[39m\n",
      "\u001b[0;31mIndexError\u001b[0m: list index out of range"
     ]
    }
   ],
   "source": [
    "# Set up\n",
    "device = os.environ.get(\"RIFFUSION_TEST_DEVICE\", \"cuda\")\n",
    "\n",
    "# experiment label\n",
    "label = \"Bird vocalization-bird call-bird song\"\n",
    "\n",
    "# set paths\n",
    "wav_source = \"./test\"\n",
    "spec_dest = \"./test/wav\"\n",
    "#wav_source = \"./AudioSet/wav/\" + label\n",
    "#spec_dest = \"./AudioSet/spec/\" + label\n",
    "os.makedirs(spec_dest, exist_ok=True)\n",
    "\n",
    "for wav in os.listdir(wav_source):\n",
    "    # Convert wav to audiosegment\n",
    "    segment = pydub.AudioSegment.from_wav(wav_source + \"/\" + wav)\n",
    "\n",
    "    # Convert to mono if desired\n",
    "    use_stereo = False\n",
    "    if use_stereo:\n",
    "        assert segment.channels == 2\n",
    "    else:\n",
    "        segment = segment.set_channels(1)\n",
    "\n",
    "    # Define named sets of parameters\n",
    "    param_sets: T.Dict[str, SpectrogramParams] = {}\n",
    "\n",
    "    param_sets[\"default\"] = SpectrogramParams(\n",
    "        sample_rate=segment.frame_rate,\n",
    "        stereo=use_stereo,\n",
    "        step_size_ms=20,\n",
    "        min_frequency=20,\n",
    "        max_frequency=20000,\n",
    "        num_frequencies=512,\n",
    "    )\n",
    "    print(segment.frame_rate)\n",
    "\n",
    "    segments: T.Dict[str, pydub.AudioSegment] = {\n",
    "                \"original\": segment,\n",
    "            } \n",
    "    images: T.Dict[str, Image.Image] = {}\n",
    "    for name, params in param_sets.items():\n",
    "        converter = SpectrogramImageConverter(params=params, device=device)\n",
    "        images[name] = converter.spectrogram_image_from_audio(segment)\n",
    "        segments[name] = converter.audio_from_spectrogram_image(\n",
    "            image=images[name],\n",
    "            apply_filters=True,\n",
    "        )\n",
    "\n",
    "    # Save images to disk\n",
    "    for name, image in images.items():\n",
    "        image_out = spec_dest + \"/\" + os.fsdecode(wav) + \".png\"\n",
    "        image.save(image_out, exif=image.getexif(), format=\"PNG\")\n",
    "        print(f\"Saved {image_out}\")\n",
    "\n",
    "\"\"\" # Save segments to disk\n",
    "for name, segment in segments.items():\n",
    "    audio_out = spec_dest + \".wav\"\n",
    "    segment.export(audio_out, format=\"wav\")\n",
    "    print(f\"Saved {audio_out}\") \"\"\""
   ]
  },
  {
   "cell_type": "code",
   "execution_count": 18,
   "metadata": {},
   "outputs": [
    {
     "name": "stdout",
     "output_type": "stream",
     "text": [
      "Saved ./test/spec.wav\n"
     ]
    }
   ],
   "source": [
    "# Set up\n",
    "device = os.environ.get(\"RIFFUSION_TEST_DEVICE\", \"cuda\")\n",
    "\n",
    "# experiment label\n",
    "label = \"Bird vocalization-bird call-bird song\"\n",
    "\n",
    "# set paths\n",
    "wav_source = \"./test/wav\"\n",
    "spec_dest = \"./test/spec\"\n",
    "#wav_source = \"./AudioSet/wav/\" + label\n",
    "#spec_dest = \"./AudioSet/spec/\" + label\n",
    "\n",
    "for spec in os.listdir(spec_dest):\n",
    "    # Convert wav to audiosegment\n",
    "    # segment = pydub.AudioSegment.from_wav(wav_source + \"/\" + wav)\n",
    "    # Convert to mono if desired\n",
    "    \"\"\" use_stereo = False\n",
    "    if use_stereo:\n",
    "        assert segment.channels == 2\n",
    "    else:\n",
    "        segment = segment.set_channels(1) \"\"\"\n",
    "            # Construct the full file path\n",
    "    file_path = os.path.join(spec_dest, spec)\n",
    "\n",
    "    # Open the PNG file using PIL/Pillow\n",
    "    image = Image.open(file_path)\n",
    "    \n",
    "    # Define named sets of parameters\n",
    "    param_sets: T.Dict[str, SpectrogramParams] = {}\n",
    "\n",
    "    param_sets[\"default\"] = SpectrogramParams(\n",
    "        sample_rate=44100,\n",
    "        stereo=True,\n",
    "        step_size_ms=20,\n",
    "        min_frequency=20,\n",
    "        max_frequency=20000,\n",
    "        num_frequencies=512,\n",
    "    )\n",
    "\n",
    "    \"\"\" segments: T.Dict[str, pydub.AudioSegment] = {\n",
    "                \"original\": spec,\n",
    "            }  \"\"\"\n",
    "            \n",
    "    images: T.Dict[str, Image.Image] = {\n",
    "            \"original\": spec\n",
    "    }\n",
    "    segments: T.Dict[str, pydub.AudioSegment] = {\n",
    "        } \n",
    "    \n",
    "    for name, params in param_sets.items():\n",
    "        converter = SpectrogramImageConverter(params=params, device=device)\n",
    "        # images[name] = converter.spectrogram_image_from_audio(segment)\n",
    "        segments[name] = converter.audio_from_spectrogram_image(\n",
    "            image=image,\n",
    "            apply_filters=True,\n",
    "        )\n",
    "\n",
    "    # Save images to disk\n",
    "    \"\"\" for name, image in segments.items():\n",
    "        image_out = spec_dest + \"/\" + os.fsdecode(wav) + \".png\"\n",
    "        image.save(image_out, exif=image.getexif(), format=\"PNG\")\n",
    "        print(f\"Saved {image_out}\") \"\"\"\n",
    "        \n",
    "    for name, segment in segments.items():\n",
    "        audio_out = spec_dest + \".wav\"\n",
    "        segment.export(audio_out, format=\"wav\")\n",
    "        print(f\"Saved {audio_out}\")\n",
    "\n",
    "# Save segments to disk\n",
    "\n",
    "# Save segments to disk\n"
   ]
  },
  {
   "cell_type": "code",
   "execution_count": null,
   "metadata": {},
   "outputs": [],
   "source": []
  }
 ],
 "metadata": {
  "kernelspec": {
   "display_name": "msc_diss",
   "language": "python",
   "name": "python3"
  },
  "language_info": {
   "codemirror_mode": {
    "name": "ipython",
    "version": 3
   },
   "file_extension": ".py",
   "mimetype": "text/x-python",
   "name": "python",
   "nbconvert_exporter": "python",
   "pygments_lexer": "ipython3",
   "version": "3.10.11"
  },
  "orig_nbformat": 4,
  "vscode": {
   "interpreter": {
    "hash": "5a72e5e1b89d6aca93f43995c0113c69f11f03ee989f354bc28ea86012bfefd8"
   }
  }
 },
 "nbformat": 4,
 "nbformat_minor": 2
}
