{
 "cells": [
  {
   "cell_type": "code",
   "execution_count": 7,
   "metadata": {},
   "outputs": [],
   "source": [
    "from dotenv import load_dotenv\n",
    "import os\n",
    "\n",
    "# set up envs\n",
    "load_dotenv('db.env')\n",
    "# model_name = os.getenv('MODEL_NAME')\n",
    "# instance_dir = os.getenv('INSTANCE_DIR')\n",
    "# output_dir = os.getenv('OUTPUT_DIR')\n",
    "model_name = os.getenv('MODEL_NAME')\n",
    "instance_dir = './dog'\n",
    "output_dir = './out'\n"
   ]
  },
  {
   "cell_type": "code",
   "execution_count": 8,
   "metadata": {},
   "outputs": [
    {
     "name": "stderr",
     "output_type": "stream",
     "text": [
      "`text_config_dict` is provided which will be used to initialize `CLIPTextConfig`. The value `text_config[\"id2label\"]` will be overriden.\n"
     ]
    }
   ],
   "source": [
    "# Load model\n",
    "from diffusers import StableDiffusionPipeline\n",
    "\n",
    "repo_id = model_name\n",
    "pipe = StableDiffusionPipeline.from_pretrained(repo_id)"
   ]
  },
  {
   "cell_type": "code",
   "execution_count": 9,
   "metadata": {},
   "outputs": [
    {
     "data": {
      "application/vnd.jupyter.widget-view+json": {
       "model_id": "cb0b5155221e475aafaa22eb31ced539",
       "version_major": 2,
       "version_minor": 0
      },
      "text/plain": [
       "Fetching 5 files:   0%|          | 0/5 [00:00<?, ?it/s]"
      ]
     },
     "metadata": {},
     "output_type": "display_data"
    },
    {
     "data": {
      "text/plain": [
       "'/home/ryan/diss/msc_diss/sdspeech/model/sd_ex/db/dog'"
      ]
     },
     "execution_count": 9,
     "metadata": {},
     "output_type": "execute_result"
    }
   ],
   "source": [
    "from huggingface_hub import snapshot_download\n",
    "\n",
    "local_dir = \"./dog\"\n",
    "snapshot_download(\n",
    "    \"diffusers/dog-example\",\n",
    "    local_dir=local_dir,\n",
    "    repo_type=\"dataset\",\n",
    "    ignore_patterns=\".gitattributes\",\n",
    ")"
   ]
  },
  {
   "cell_type": "code",
   "execution_count": 16,
   "metadata": {},
   "outputs": [
    {
     "name": "stdout",
     "output_type": "stream",
     "text": [
      "[2023-06-15 20:30:43,968] [INFO] [real_accelerator.py:110:get_accelerator] Setting ds_accelerator to cuda (auto detect)\n",
      "[2023-06-15 20:30:45,372] [INFO] [real_accelerator.py:110:get_accelerator] Setting ds_accelerator to cuda (auto detect)\n",
      "/home/ryan/miniconda3/envs/msc_diss/lib/python3.10/site-packages/accelerate/utils/dataclasses.py:589: UserWarning: DeepSpeed Zero3 Init flag is only applicable for ZeRO Stage 3. Setting it to False.\n",
      "  warnings.warn(\"DeepSpeed Zero3 Init flag is only applicable for ZeRO Stage 3. Setting it to False.\")\n",
      "[2023-06-15 20:30:45,825] [WARNING] [comm.py:152:init_deepspeed_backend] NCCL backend in DeepSpeed not yet implemented\n",
      "[2023-06-15 20:30:45,825] [INFO] [comm.py:594:init_distributed] cdb=None\n",
      "[2023-06-15 20:30:45,825] [INFO] [comm.py:625:init_distributed] Initializing TorchBackend in DeepSpeed with backend nccl\n",
      "06/15/2023 20:30:45 - INFO - __main__ - Distributed environment: DEEPSPEED  Backend: nccl\n",
      "Num processes: 1\n",
      "Process index: 0\n",
      "Local process index: 0\n",
      "Device: cuda:0\n",
      "\n",
      "Mixed precision type: fp16\n",
      "ds_config: {'train_batch_size': 'auto', 'train_micro_batch_size_per_gpu': 'auto', 'gradient_accumulation_steps': 1, 'zero_optimization': {'stage': 2, 'offload_optimizer': {'device': 'cpu', 'nvme_path': None}, 'offload_param': {'device': 'cpu', 'nvme_path': None}, 'stage3_gather_16bit_weights_on_model_save': False}, 'steps_per_print': inf, 'fp16': {'enabled': True, 'auto_cast': True}, 'bf16': {'enabled': False}}\n",
      "\n",
      "You are using a model of type clip_text_model to instantiate a model of type . This is not supported for all configurations of models and can yield errors.\n",
      "{'prediction_type', 'sample_max_value', 'thresholding', 'clip_sample_range', 'dynamic_thresholding_ratio', 'variance_type'} was not found in config. Values will be initialized to default values.\n",
      "{'norm_num_groups'} was not found in config. Values will be initialized to default values.\n",
      "{'time_cond_proj_dim', 'num_class_embeds', 'dual_cross_attention', 'use_linear_projection', 'encoder_hid_dim_type', 'resnet_time_scale_shift', 'time_embedding_act_fn', 'class_embeddings_concat', 'resnet_skip_time_act', 'projection_class_embeddings_input_dim', 'addition_embed_type_num_heads', 'mid_block_only_cross_attention', 'only_cross_attention', 'cross_attention_norm', 'conv_in_kernel', 'resnet_out_scale_factor', 'class_embed_type', 'conv_out_kernel', 'encoder_hid_dim', 'addition_embed_type', 'mid_block_type', 'timestep_post_act', 'time_embedding_dim', 'upcast_attention', 'time_embedding_type'} was not found in config. Values will be initialized to default values.\n",
      "Installed CUDA version 11.5 does not match the version torch was compiled with 11.7 but since the APIs are compatible, accepting this combination\n",
      "Installed CUDA version 11.5 does not match the version torch was compiled with 11.7 but since the APIs are compatible, accepting this combination\n",
      "Using /home/ryan/.cache/torch_extensions/py310_cu117 as PyTorch extensions root...\n",
      "Detected CUDA files, patching ldflags\n",
      "Emitting ninja build file /home/ryan/.cache/torch_extensions/py310_cu117/cpu_adam/build.ninja...\n",
      "Building extension module cpu_adam...\n",
      "Allowing ninja to set a default number of workers... (overridable by setting the environment variable MAX_JOBS=N)\n",
      "[1/2] /usr/bin/nvcc  -DTORCH_EXTENSION_NAME=cpu_adam -DTORCH_API_INCLUDE_EXTENSION_H -DPYBIND11_COMPILER_TYPE=\\\"_gcc\\\" -DPYBIND11_STDLIB=\\\"_libstdcpp\\\" -DPYBIND11_BUILD_ABI=\\\"_cxxabi1011\\\" -I/home/ryan/miniconda3/envs/msc_diss/lib/python3.10/site-packages/deepspeed/ops/csrc/includes -I/usr/include -isystem /home/ryan/miniconda3/envs/msc_diss/lib/python3.10/site-packages/torch/include -isystem /home/ryan/miniconda3/envs/msc_diss/lib/python3.10/site-packages/torch/include/torch/csrc/api/include -isystem /home/ryan/miniconda3/envs/msc_diss/lib/python3.10/site-packages/torch/include/TH -isystem /home/ryan/miniconda3/envs/msc_diss/lib/python3.10/site-packages/torch/include/THC -isystem /home/ryan/miniconda3/envs/msc_diss/include/python3.10 -D_GLIBCXX_USE_CXX11_ABI=0 -D__CUDA_NO_HALF_OPERATORS__ -D__CUDA_NO_HALF_CONVERSIONS__ -D__CUDA_NO_BFLOAT16_CONVERSIONS__ -D__CUDA_NO_HALF2_OPERATORS__ --expt-relaxed-constexpr -gencode=arch=compute_86,code=compute_86 -gencode=arch=compute_86,code=sm_86 --compiler-options '-fPIC' -O3 --use_fast_math -std=c++17 -U__CUDA_NO_HALF_OPERATORS__ -U__CUDA_NO_HALF_CONVERSIONS__ -U__CUDA_NO_HALF2_OPERATORS__ -gencode=arch=compute_86,code=sm_86 -gencode=arch=compute_86,code=compute_86 -DBF16_AVAILABLE -c /home/ryan/miniconda3/envs/msc_diss/lib/python3.10/site-packages/deepspeed/ops/csrc/common/custom_cuda_kernel.cu -o custom_cuda_kernel.cuda.o \n",
      "\u001b[31mFAILED: \u001b[0mcustom_cuda_kernel.cuda.o \n",
      "/usr/bin/nvcc  -DTORCH_EXTENSION_NAME=cpu_adam -DTORCH_API_INCLUDE_EXTENSION_H -DPYBIND11_COMPILER_TYPE=\\\"_gcc\\\" -DPYBIND11_STDLIB=\\\"_libstdcpp\\\" -DPYBIND11_BUILD_ABI=\\\"_cxxabi1011\\\" -I/home/ryan/miniconda3/envs/msc_diss/lib/python3.10/site-packages/deepspeed/ops/csrc/includes -I/usr/include -isystem /home/ryan/miniconda3/envs/msc_diss/lib/python3.10/site-packages/torch/include -isystem /home/ryan/miniconda3/envs/msc_diss/lib/python3.10/site-packages/torch/include/torch/csrc/api/include -isystem /home/ryan/miniconda3/envs/msc_diss/lib/python3.10/site-packages/torch/include/TH -isystem /home/ryan/miniconda3/envs/msc_diss/lib/python3.10/site-packages/torch/include/THC -isystem /home/ryan/miniconda3/envs/msc_diss/include/python3.10 -D_GLIBCXX_USE_CXX11_ABI=0 -D__CUDA_NO_HALF_OPERATORS__ -D__CUDA_NO_HALF_CONVERSIONS__ -D__CUDA_NO_BFLOAT16_CONVERSIONS__ -D__CUDA_NO_HALF2_OPERATORS__ --expt-relaxed-constexpr -gencode=arch=compute_86,code=compute_86 -gencode=arch=compute_86,code=sm_86 --compiler-options '-fPIC' -O3 --use_fast_math -std=c++17 -U__CUDA_NO_HALF_OPERATORS__ -U__CUDA_NO_HALF_CONVERSIONS__ -U__CUDA_NO_HALF2_OPERATORS__ -gencode=arch=compute_86,code=sm_86 -gencode=arch=compute_86,code=compute_86 -DBF16_AVAILABLE -c /home/ryan/miniconda3/envs/msc_diss/lib/python3.10/site-packages/deepspeed/ops/csrc/common/custom_cuda_kernel.cu -o custom_cuda_kernel.cuda.o \n",
      "/usr/include/c++/11/bits/std_function.h:435:145: error: parameter packs not expanded with ‘...’:\n",
      "  435 |         function(_Functor&& __f)\n",
      "      |                                                                                                                                                 ^ \n",
      "/usr/include/c++/11/bits/std_function.h:435:145: note:         ‘_ArgTypes’\n",
      "/usr/include/c++/11/bits/std_function.h:530:146: error: parameter packs not expanded with ‘...’:\n",
      "  530 |         operator=(_Functor&& __f)\n",
      "      |                                                                                                                                                  ^ \n",
      "/usr/include/c++/11/bits/std_function.h:530:146: note:         ‘_ArgTypes’\n",
      "ninja: build stopped: subcommand failed.\n",
      "Traceback (most recent call last):\n",
      "  File \"/home/ryan/miniconda3/envs/msc_diss/lib/python3.10/site-packages/torch/utils/cpp_extension.py\", line 1893, in _run_ninja_build\n",
      "    subprocess.run(\n",
      "  File \"/home/ryan/miniconda3/envs/msc_diss/lib/python3.10/subprocess.py\", line 526, in run\n",
      "    raise CalledProcessError(retcode, process.args,\n",
      "subprocess.CalledProcessError: Command '['ninja', '-v']' returned non-zero exit status 1.\n",
      "\n",
      "The above exception was the direct cause of the following exception:\n",
      "\n",
      "Traceback (most recent call last):\n",
      "  File \"/home/ryan/diss/msc_diss/sdspeech/model/sd_ex/db/train_dreambooth.py\", line 1355, in <module>\n",
      "    main(args)\n",
      "  File \"/home/ryan/diss/msc_diss/sdspeech/model/sd_ex/db/train_dreambooth.py\", line 1091, in main\n",
      "    unet, optimizer, train_dataloader, lr_scheduler = accelerator.prepare(\n",
      "  File \"/home/ryan/miniconda3/envs/msc_diss/lib/python3.10/site-packages/accelerate/accelerator.py\", line 1178, in prepare\n",
      "    result = self._prepare_deepspeed(*args)\n",
      "  File \"/home/ryan/miniconda3/envs/msc_diss/lib/python3.10/site-packages/accelerate/accelerator.py\", line 1499, in _prepare_deepspeed\n",
      "    optimizer = DeepSpeedCPUAdam(optimizer.param_groups, **defaults)\n",
      "  File \"/home/ryan/miniconda3/envs/msc_diss/lib/python3.10/site-packages/deepspeed/ops/adam/cpu_adam.py\", line 94, in __init__\n",
      "    self.ds_opt_adam = CPUAdamBuilder().load()\n",
      "  File \"/home/ryan/miniconda3/envs/msc_diss/lib/python3.10/site-packages/deepspeed/ops/op_builder/builder.py\", line 454, in load\n",
      "    return self.jit_load(verbose)\n",
      "  File \"/home/ryan/miniconda3/envs/msc_diss/lib/python3.10/site-packages/deepspeed/ops/op_builder/builder.py\", line 497, in jit_load\n",
      "    op_module = load(name=self.name,\n",
      "  File \"/home/ryan/miniconda3/envs/msc_diss/lib/python3.10/site-packages/torch/utils/cpp_extension.py\", line 1284, in load\n",
      "    return _jit_compile(\n",
      "  File \"/home/ryan/miniconda3/envs/msc_diss/lib/python3.10/site-packages/torch/utils/cpp_extension.py\", line 1509, in _jit_compile\n",
      "    _write_ninja_file_and_build_library(\n",
      "  File \"/home/ryan/miniconda3/envs/msc_diss/lib/python3.10/site-packages/torch/utils/cpp_extension.py\", line 1624, in _write_ninja_file_and_build_library\n",
      "    _run_ninja_build(\n",
      "  File \"/home/ryan/miniconda3/envs/msc_diss/lib/python3.10/site-packages/torch/utils/cpp_extension.py\", line 1909, in _run_ninja_build\n",
      "    raise RuntimeError(message) from e\n",
      "RuntimeError: Error building extension 'cpu_adam'\n",
      "Exception ignored in: <function DeepSpeedCPUAdam.__del__ at 0x7fbdeed3bbe0>\n",
      "Traceback (most recent call last):\n",
      "  File \"/home/ryan/miniconda3/envs/msc_diss/lib/python3.10/site-packages/deepspeed/ops/adam/cpu_adam.py\", line 102, in __del__\n",
      "AttributeError: 'DeepSpeedCPUAdam' object has no attribute 'ds_opt_adam'\n",
      "ERROR:torch.distributed.elastic.multiprocessing.api:failed (exitcode: 1) local_rank: 0 (pid: 25342) of binary: /home/ryan/miniconda3/envs/msc_diss/bin/python\n",
      "Traceback (most recent call last):\n",
      "  File \"/home/ryan/miniconda3/envs/msc_diss/bin/accelerate\", line 8, in <module>\n",
      "    sys.exit(main())\n",
      "  File \"/home/ryan/miniconda3/envs/msc_diss/lib/python3.10/site-packages/accelerate/commands/accelerate_cli.py\", line 45, in main\n",
      "    args.func(args)\n",
      "  File \"/home/ryan/miniconda3/envs/msc_diss/lib/python3.10/site-packages/accelerate/commands/launch.py\", line 926, in launch_command\n",
      "    deepspeed_launcher(args)\n",
      "  File \"/home/ryan/miniconda3/envs/msc_diss/lib/python3.10/site-packages/accelerate/commands/launch.py\", line 671, in deepspeed_launcher\n",
      "    distrib_run.run(args)\n",
      "  File \"/home/ryan/miniconda3/envs/msc_diss/lib/python3.10/site-packages/torch/distributed/run.py\", line 785, in run\n",
      "    elastic_launch(\n",
      "  File \"/home/ryan/miniconda3/envs/msc_diss/lib/python3.10/site-packages/torch/distributed/launcher/api.py\", line 134, in __call__\n",
      "    return launch_agent(self._config, self._entrypoint, list(args))\n",
      "  File \"/home/ryan/miniconda3/envs/msc_diss/lib/python3.10/site-packages/torch/distributed/launcher/api.py\", line 250, in launch_agent\n",
      "    raise ChildFailedError(\n",
      "torch.distributed.elastic.multiprocessing.errors.ChildFailedError: \n",
      "============================================================\n",
      "train_dreambooth.py FAILED\n",
      "------------------------------------------------------------\n",
      "Failures:\n",
      "  <NO_OTHER_FAILURES>\n",
      "------------------------------------------------------------\n",
      "Root Cause (first observed failure):\n",
      "[0]:\n",
      "  time      : 2023-06-15_20:30:59\n",
      "  host      : honeyboner\n",
      "  rank      : 0 (local_rank: 0)\n",
      "  exitcode  : 1 (pid: 25342)\n",
      "  error_file: <N/A>\n",
      "  traceback : To enable traceback see: https://pytorch.org/docs/stable/elastic/errors.html\n",
      "============================================================\n"
     ]
    }
   ],
   "source": [
    "# Run training script\n",
    "!export MODEL_NAME=\"CompVis/stable-diffusion-v1-4\"\n",
    "!export INSTANCE_DIR=\"./dog\"\n",
    "!export OUTPUT_DIR=\"./out\"\n",
    "\n",
    "!accelerate launch train_dreambooth.py \\\n",
    "  --pretrained_model_name_or_path=$MODEL_NAME  \\\n",
    "  --instance_data_dir=$INSTANCE_DIR \\\n",
    "  --output_dir=$OUTPUT_DIR \\\n",
    "  --instance_prompt=\"a photo of sks dog\" \\\n",
    "  --resolution=512 \\\n",
    "  --train_batch_size=1 \\\n",
    "  --gradient_accumulation_steps=1 \\\n",
    "  --learning_rate=5e-6 \\\n",
    "  --lr_scheduler=\"constant\" \\\n",
    "  --lr_warmup_steps=0 \\\n",
    "  --max_train_steps=400\n"
   ]
  },
  {
   "cell_type": "code",
   "execution_count": null,
   "metadata": {},
   "outputs": [],
   "source": []
  }
 ],
 "metadata": {
  "kernelspec": {
   "display_name": "msc_diss_c",
   "language": "python",
   "name": "msc_diss_c"
  },
  "language_info": {
   "codemirror_mode": {
    "name": "ipython",
    "version": 3
   },
   "file_extension": ".py",
   "mimetype": "text/x-python",
   "name": "python",
   "nbconvert_exporter": "python",
   "pygments_lexer": "ipython3",
   "version": "3.10.11"
  },
  "orig_nbformat": 4
 },
 "nbformat": 4,
 "nbformat_minor": 2
}
