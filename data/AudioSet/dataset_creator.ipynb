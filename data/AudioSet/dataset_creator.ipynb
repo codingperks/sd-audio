{
 "cells": [
  {
   "cell_type": "code",
   "execution_count": 2,
   "metadata": {},
   "outputs": [],
   "source": [
    "import pandas as pd\n",
    "import os"
   ]
  },
  {
   "cell_type": "code",
   "execution_count": 4,
   "metadata": {},
   "outputs": [],
   "source": [
    "# Create metadata csv\n",
    "data = []\n",
    "\n",
    "for file in os.listdir(\"./spec/Bird vocalization-bird call-bird song/\"):\n",
    "    data.append((os.fsdecode(file), 'a spectrogram of bird song'))\n",
    "    \n",
    "    \n",
    "df = pd.DataFrame(data, columns=['file_name', 'text'])\n",
    "\n",
    "df.to_csv(\"./spec/Bird vocalization-bird call-bird song/metadata.csv\", index=False)\n"
   ]
  }
 ],
 "metadata": {
  "kernelspec": {
   "display_name": "msc_diss",
   "language": "python",
   "name": "python3"
  },
  "language_info": {
   "codemirror_mode": {
    "name": "ipython",
    "version": 3
   },
   "file_extension": ".py",
   "mimetype": "text/x-python",
   "name": "python",
   "nbconvert_exporter": "python",
   "pygments_lexer": "ipython3",
   "version": "3.10.11"
  },
  "orig_nbformat": 4,
  "vscode": {
   "interpreter": {
    "hash": "5a72e5e1b89d6aca93f43995c0113c69f11f03ee989f354bc28ea86012bfefd8"
   }
  }
 },
 "nbformat": 4,
 "nbformat_minor": 2
}
