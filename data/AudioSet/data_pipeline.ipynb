{
 "cells": [
  {
   "cell_type": "code",
   "execution_count": null,
   "metadata": {},
   "outputs": [],
   "source": [
    "# Pipeline from downloaded files, to complete huggingface dataset with metadata\n",
    "# Normalisation of sound to [-1, 1]\n",
    "# Construction of full dataset with metadata\n",
    "# Train/Test/Val splits"
   ]
  },
  {
   "cell_type": "code",
   "execution_count": null,
   "metadata": {},
   "outputs": [],
   "source": []
  },
  {
   "cell_type": "code",
   "execution_count": null,
   "metadata": {},
   "outputs": [],
   "source": [
    "import os\n",
    "import librosa\n",
    "import soundfile as sf\n",
    "import numpy as np\n",
    "\n",
    "class WavPreprocessor:\n",
    "    def resample(self, audio, target_sr):\n",
    "        y, sr = librosa.load(audio, sr=None)\n",
    "        \n",
    "        y_resampled = librosa.resample(y, sr, target_sr)\n",
    "        \n",
    "        return y_resampled, target_sr\n",
    "    \n",
    "    def resample_folder(self, input_path, output_path, target_sr):\n",
    "        for filename in os.listdir(input_path):\n",
    "            if filename.endswith('.wav'):\n",
    "                path = os.path.join(input_path, filename)\n",
    "                y_resampled, sr = self.resample(path, target_sr)\n",
    "                \n",
    "                save_path = os.path.join(output_path, 'resampled_' + str(sr) + '_' + filename)\n",
    "                sf.write(save_path, y_resampled, sr)\n",
    "    \n",
    "    def min_max_normalise(self, audio):\n",
    "        y, sr = librosa.load(audio, sr=None)\n",
    "        \n",
    "        normalised_y = y / np.max(np.abs(y))\n",
    "        \n",
    "        return normalised_y, sr\n",
    "      \n",
    "    def min_max_normalise_folder(self, input_path, output_path):\n",
    "        for filename in os.listdir(input_path):\n",
    "            if filename.endswith('.wav'):\n",
    "                path = os.path.join(input_path, filename)\n",
    "                norm_wav, sr = self.min_max_normalise(path)\n",
    "                \n",
    "                save_path = os.path.join(output_path, 'norm_' + filename)\n",
    "                sf.write(save_path, norm_wav, sr)"
   ]
  }
 ],
 "metadata": {
  "language_info": {
   "name": "python"
  },
  "orig_nbformat": 4
 },
 "nbformat": 4,
 "nbformat_minor": 2
}
