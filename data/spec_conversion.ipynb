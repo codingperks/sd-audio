{
 "cells": [
  {
   "attachments": {},
   "cell_type": "markdown",
   "metadata": {},
   "source": [
    "Experiment with spec conversion"
   ]
  },
  {
   "cell_type": "code",
   "execution_count": null,
   "metadata": {},
   "outputs": [],
   "source": [
    "from utils.spectrogram_converter import SpectrogramConverter\n",
    "from utils.spectrogram_params import SpectrogramParams\n",
    "from utils.riff_util import image_util\n",
    "import os\n",
    "import pydub\n",
    "import matplotlib.pyplot as plt\n",
    "import numpy as np\n",
    "from PIL import Image\n",
    "from IPython.display import Audio, display\n",
    "import typing as T\n",
    "from utils.spectrogram_image_converter import SpectrogramImageConverter"
   ]
  },
  {
   "cell_type": "code",
   "execution_count": null,
   "metadata": {},
   "outputs": [],
   "source": [
    "converter = SpectrogramConverter(SpectrogramParams())"
   ]
  },
  {
   "cell_type": "code",
   "execution_count": null,
   "metadata": {},
   "outputs": [],
   "source": [
    "# Set up\n",
    "device = os.environ.get(\"RIFFUSION_TEST_DEVICE\", \"cuda\")\n",
    "\n",
    "# experiment label\n",
    "label = \"Bird vocalization-bird call-bird song\"\n",
    "\n",
    "# set paths\n",
    "wav_source = \"./AudioSet/wav/\" + label\n",
    "spec_dest = \"./AudioSet/spec/\" + label\n",
    "os.makedirs(spec_dest, exist_ok=True)\n",
    "\n",
    "for wav in os.listdir(wav_source):\n",
    "    # Convert wav to audiosegment\n",
    "    segment = pydub.AudioSegment.from_wav(wav_source + \"/\" + wav)\n",
    "\n",
    "    # Convert to mono if desired\n",
    "    use_stereo = False\n",
    "    if use_stereo:\n",
    "        assert segment.channels == 2\n",
    "    else:\n",
    "        segment = segment.set_channels(1)\n",
    "\n",
    "    # Define named sets of parameters\n",
    "    param_sets: T.Dict[str, SpectrogramParams] = {}\n",
    "\n",
    "    param_sets[\"default\"] = SpectrogramParams(\n",
    "        sample_rate=segment.frame_rate,\n",
    "        stereo=use_stereo,\n",
    "        step_size_ms=20,\n",
    "        min_frequency=20,\n",
    "        max_frequency=20000,\n",
    "        num_frequencies=512,\n",
    "    )\n",
    "    print(segment.frame_rate)\n",
    "\n",
    "    segments: T.Dict[str, pydub.AudioSegment] = {\n",
    "                \"original\": segment,\n",
    "            } \n",
    "    images: T.Dict[str, Image.Image] = {}\n",
    "    for name, params in param_sets.items():\n",
    "        converter = SpectrogramImageConverter(params=params, device=device)\n",
    "        images[name] = converter.spectrogram_image_from_audio(segment)\n",
    "        segments[name] = converter.audio_from_spectrogram_image(\n",
    "            image=images[name],\n",
    "            apply_filters=True,\n",
    "        )\n",
    "\n",
    "    # Save images to disk\n",
    "    for name, image in images.items():\n",
    "        image_out = spec_dest + \"/\" + os.fsdecode(wav) + \".png\"\n",
    "        image.save(image_out, exif=image.getexif(), format=\"PNG\")\n",
    "        print(f\"Saved {image_out}\")\n",
    "\n",
    "\"\"\" # Save segments to disk\n",
    "for name, segment in segments.items():\n",
    "    audio_out = spec_dest + \".wav\"\n",
    "    segment.export(audio_out, format=\"wav\")\n",
    "    print(f\"Saved {audio_out}\") \"\"\""
   ]
  },
  {
   "cell_type": "code",
   "execution_count": null,
   "metadata": {},
   "outputs": [],
   "source": []
  }
 ],
 "metadata": {
  "kernelspec": {
   "display_name": "msc_diss",
   "language": "python",
   "name": "python3"
  },
  "language_info": {
   "codemirror_mode": {
    "name": "ipython",
    "version": 3
   },
   "file_extension": ".py",
   "mimetype": "text/x-python",
   "name": "python",
   "nbconvert_exporter": "python",
   "pygments_lexer": "ipython3",
   "version": "3.10.11"
  },
  "orig_nbformat": 4,
  "vscode": {
   "interpreter": {
    "hash": "5a72e5e1b89d6aca93f43995c0113c69f11f03ee989f354bc28ea86012bfefd8"
   }
  }
 },
 "nbformat": 4,
 "nbformat_minor": 2
}
