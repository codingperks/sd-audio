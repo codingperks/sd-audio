{
 "cells": [
  {
   "attachments": {},
   "cell_type": "markdown",
   "metadata": {},
   "source": [
    "Extract class labels from wav folder into output folder"
   ]
  },
  {
   "cell_type": "code",
   "execution_count": 1,
   "metadata": {},
   "outputs": [],
   "source": [
    "import pandas as pd\n",
    "import re\n",
    "import os\n",
    "import shutil"
   ]
  },
  {
   "cell_type": "code",
   "execution_count": null,
   "metadata": {},
   "outputs": [],
   "source": [
    "# Overview\n",
    "\n",
    "# Select class label\n",
    "\n",
    "# Select all wav files with class label\n",
    "\n",
    "# Output into folder with class label name"
   ]
  },
  {
   "cell_type": "code",
   "execution_count": 3,
   "metadata": {},
   "outputs": [
    {
     "data": {
      "text/html": [
       "<div>\n",
       "<style scoped>\n",
       "    .dataframe tbody tr th:only-of-type {\n",
       "        vertical-align: middle;\n",
       "    }\n",
       "\n",
       "    .dataframe tbody tr th {\n",
       "        vertical-align: top;\n",
       "    }\n",
       "\n",
       "    .dataframe thead th {\n",
       "        text-align: right;\n",
       "    }\n",
       "</style>\n",
       "<table border=\"1\" class=\"dataframe\">\n",
       "  <thead>\n",
       "    <tr style=\"text-align: right;\">\n",
       "      <th></th>\n",
       "      <th>index</th>\n",
       "      <th>mid</th>\n",
       "      <th>display_name</th>\n",
       "    </tr>\n",
       "  </thead>\n",
       "  <tbody>\n",
       "    <tr>\n",
       "      <th>0</th>\n",
       "      <td>0</td>\n",
       "      <td>/m/09x0r</td>\n",
       "      <td>Speech</td>\n",
       "    </tr>\n",
       "    <tr>\n",
       "      <th>1</th>\n",
       "      <td>1</td>\n",
       "      <td>/m/05zppz</td>\n",
       "      <td>Male speech, man speaking</td>\n",
       "    </tr>\n",
       "    <tr>\n",
       "      <th>2</th>\n",
       "      <td>2</td>\n",
       "      <td>/m/02zsn</td>\n",
       "      <td>Female speech, woman speaking</td>\n",
       "    </tr>\n",
       "    <tr>\n",
       "      <th>3</th>\n",
       "      <td>3</td>\n",
       "      <td>/m/0ytgt</td>\n",
       "      <td>Child speech, kid speaking</td>\n",
       "    </tr>\n",
       "    <tr>\n",
       "      <th>4</th>\n",
       "      <td>4</td>\n",
       "      <td>/m/01h8n0</td>\n",
       "      <td>Conversation</td>\n",
       "    </tr>\n",
       "  </tbody>\n",
       "</table>\n",
       "</div>"
      ],
      "text/plain": [
       "   index        mid                   display_name\n",
       "0      0   /m/09x0r                         Speech\n",
       "1      1  /m/05zppz      Male speech, man speaking\n",
       "2      2   /m/02zsn  Female speech, woman speaking\n",
       "3      3   /m/0ytgt     Child speech, kid speaking\n",
       "4      4  /m/01h8n0                   Conversation"
      ]
     },
     "execution_count": 3,
     "metadata": {},
     "output_type": "execute_result"
    }
   ],
   "source": [
    "# Class labels\n",
    "df = pd.read_csv('./wav/class_labels_indices.csv')\n",
    "\n",
    "df.head()\n",
    "\n",
    "#df[\"display_name\"].unique()\n",
    "\n"
   ]
  },
  {
   "cell_type": "code",
   "execution_count": 4,
   "metadata": {},
   "outputs": [],
   "source": [
    "df_bird = df.query(\"display_name == 'Bird vocalization, bird call, bird song'\")\n",
    "\n",
    "df_bird.head()\n",
    "\n",
    "def find_display_name(target, df):\n",
    "    closest_matches = df[df['display_name'].str.contains(target, case=False)]\n",
    "    \n",
    "    return closest_matches\n",
    "\n"
   ]
  },
  {
   "cell_type": "code",
   "execution_count": 5,
   "metadata": {},
   "outputs": [
    {
     "name": "stdout",
     "output_type": "stream",
     "text": [
      "     index       mid display_name\n",
      "165    165  /m/06rvn   Snare drum\n"
     ]
    }
   ],
   "source": [
    "df = pd.read_csv('./wav/class_labels_indices.csv')\n",
    "print(find_display_name(\"snare\", df))"
   ]
  },
  {
   "cell_type": "code",
   "execution_count": 7,
   "metadata": {},
   "outputs": [],
   "source": [
    "def return_label(target, df):\n",
    "    condition = df['display_name'].str.contains(target)\n",
    "    \n",
    "    return df.loc[condition, 'mid'].values[0]"
   ]
  },
  {
   "cell_type": "code",
   "execution_count": 8,
   "metadata": {},
   "outputs": [
    {
     "name": "stdout",
     "output_type": "stream",
     "text": [
      "/m/06rvn\n"
     ]
    }
   ],
   "source": [
    "print(return_label('Snare drum', df))"
   ]
  },
  {
   "cell_type": "code",
   "execution_count": 10,
   "metadata": {},
   "outputs": [],
   "source": [
    "def identify_wavs(label, df_id, df_train):\n",
    "    \n",
    "    label = return_label(label, df_id)\n",
    "\n",
    "    # use label to separate all wavs into a list\n",
    "    target_ids = df_train[df_train['positive_labels'].str.contains(label)]\n",
    "    target_ids = target_ids['YTID'].tolist()\n",
    "    \n",
    "    # Add .wav extension to the IDs\n",
    "    target_ids = [id + \".wav\" for id in target_ids]\n",
    "\n",
    "    \n",
    "    return target_ids\n",
    "    \n",
    "def separate_class(label, df_id, df_train):\n",
    "    # parse label\n",
    "    path_label = re.sub(r'[^\\w\\s] ', '-', label)\n",
    "    \n",
    "    # make directory if doesn't exist\n",
    "    destination = './wav/' + path_label\n",
    "    os.makedirs(destination, exist_ok=True)\n",
    "    \n",
    "    # identify target_ids\n",
    "    target = identify_wavs(label, df_id, df_train)\n",
    "        \n",
    "    source = \"./wav/train_wav\"\n",
    "        \n",
    "    # separate all wavs into new folder\n",
    "    for wav in os.listdir(source):\n",
    "        if wav in target:\n",
    "            source_path = os.path.join(source, wav)\n",
    "            destination_path = os.path.join(destination, wav)\n",
    "            shutil.copy(source_path, destination_path)\n"
   ]
  },
  {
   "cell_type": "code",
   "execution_count": 16,
   "metadata": {},
   "outputs": [],
   "source": [
    "df_id = pd.read_csv('./wav/class_labels_indices.csv')\n",
    "\n",
    "df_train = pd.read_csv('./wav/train.csv')\n",
    "\n",
    "separate_class(\"Train horn\", df_id, df_train)"
   ]
  },
  {
   "cell_type": "code",
   "execution_count": 18,
   "metadata": {},
   "outputs": [],
   "source": [
    "def count_wavs(folder_path):\n",
    "    file_count = 0\n",
    "\n",
    "    # Iterate over each item in the folder\n",
    "    for item in os.listdir(folder_path):\n",
    "        item_path = os.path.join(folder_path, item)\n",
    "        \n",
    "        # Check if it is a file\n",
    "        if os.path.isfile(item_path):\n",
    "            file_count += 1\n",
    "    \n",
    "    return file_count"
   ]
  },
  {
   "cell_type": "code",
   "execution_count": 26,
   "metadata": {},
   "outputs": [
    {
     "name": "stdout",
     "output_type": "stream",
     "text": [
      "Label: Train horn, wavs: 57\n",
      "Label: Cheering, wavs: 60\n",
      "Label: train_wav, wavs: 19644\n",
      "Label: Snare drum, wavs: 88\n",
      "Label: Bark, wavs: 56\n",
      "Label: Bird vocalization-bird call-bird song, wavs: 122\n",
      "Label: Fireworks, wavs: 55\n"
     ]
    }
   ],
   "source": [
    "for folder in os.listdir(\"./wav\"):\n",
    "    if folder[-4:] == \".csv\":\n",
    "        continue\n",
    "    folder_path = os.path.join(\"./wav\", folder)\n",
    "    print(f\"Label: {folder}, wavs: {count_wavs(folder_path)}\")\n",
    "# print(count_wavs(\"./wav/Bird vocalization-bird call-bird song\"))"
   ]
  }
 ],
 "metadata": {
  "kernelspec": {
   "display_name": "msc_diss",
   "language": "python",
   "name": "python3"
  },
  "language_info": {
   "codemirror_mode": {
    "name": "ipython",
    "version": 3
   },
   "file_extension": ".py",
   "mimetype": "text/x-python",
   "name": "python",
   "nbconvert_exporter": "python",
   "pygments_lexer": "ipython3",
   "version": "3.10.11"
  },
  "orig_nbformat": 4,
  "vscode": {
   "interpreter": {
    "hash": "5a72e5e1b89d6aca93f43995c0113c69f11f03ee989f354bc28ea86012bfefd8"
   }
  }
 },
 "nbformat": 4,
 "nbformat_minor": 2
}
