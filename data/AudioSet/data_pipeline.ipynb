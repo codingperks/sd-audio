{
 "cells": [
  {
   "cell_type": "code",
   "execution_count": null,
   "metadata": {},
   "outputs": [],
   "source": [
    "# Pipeline from downloaded files, to complete huggingface dataset with metadata\n",
    "# Normalisation of sound to [-1, 1]\n",
    "# Construction of full dataset with metadata\n",
    "# Train/Test/Val splits"
   ]
  },
  {
   "cell_type": "code",
   "execution_count": null,
   "metadata": {},
   "outputs": [],
   "source": [
    "import os\n",
    "import shutil\n",
    "\n",
    "# Select chosen classes and copy across into data folder\n",
    "class DatasetCreator:    \n",
    "    _classes = []\n",
    "    _dataset_path = \"\" # Where dataset will be constructed\n",
    "    _class_path = \"\" # Where raw data is saved\n",
    "    _preprocessor = None\n",
    "    \n",
    "    def __init__(self, dataset_path, class_path, preprocessor, *classes):\n",
    "        self._dataset_path = dataset_path\n",
    "        self._class_path = class_path\n",
    "        self._classes = [c for c in classes]\n",
    "        self._preprocessor = preprocessor\n",
    "    \n",
    "    # Creates corresponding folders for chosen classes\n",
    "    def folder_setup(self):\n",
    "        for folder in os.listdir(self._class_path):\n",
    "            if folder in self._classes and os.path.isdir(os.path.join(self._class_path, folder)):\n",
    "                dest_folder = os.path.join(self._dataset_path, folder)\n",
    "\n",
    "                if not os.path.exists(dest_folder):\n",
    "                    os.makedirs(dest_folder)\n",
    "\n",
    "    # Copies files excluding those tagged with REMOVE\n",
    "    def copy_files(self):\n",
    "        for folder in os.listdir(self._class_path):  \n",
    "            if os.path.isdir(os.path.join(self._class_path, folder)):\n",
    "                for file in os.listdir(os.path.join(self._class_path, folder)):\n",
    "                    if 'REMOVE' in file:\n",
    "                        continue\n",
    "                \n",
    "                    src_file = os.path.join(self._class_path, folder, file)\n",
    "                    dest_file = os.path.join(self._dataset_path, folder, file)\n",
    "                    \n",
    "                    shutil.copy(src_file, dest_file)\n",
    "    \n",
    "    # Converts to spectrogram\n",
    "   \n",
    "    \n",
    "    def generate_metadata(self):\n",
    "        \n",
    "\n",
    "    def combine_data(self):\n",
    "        \n",
    "        \n",
    "    def split_data(self, train_split, test_split, var_split):\n",
    "        \n",
    "        \n",
    "    def create_dataset(self, train_split, test_split, var_split):"
   ]
  },
  {
   "cell_type": "code",
   "execution_count": null,
   "metadata": {},
   "outputs": [],
   "source": [
    "import os\n",
    "import librosa\n",
    "import soundfile as sf\n",
    "import numpy as np\n",
    "\n",
    "class WavPreprocessor:\n",
    "    def resample(self, audio, target_sr):\n",
    "        y, sr = librosa.load(audio, sr=None)\n",
    "        \n",
    "        y_resampled = librosa.resample(y, sr, target_sr)\n",
    "        \n",
    "        return y_resampled, target_sr\n",
    "    \n",
    "    def resample_folder(self, input_path, output_path, target_sr):\n",
    "        for filename in os.listdir(input_path):\n",
    "            if filename.endswith('.wav'):\n",
    "                path = os.path.join(input_path, filename)\n",
    "                y_resampled, sr = self.resample(path, target_sr)\n",
    "                \n",
    "                save_path = os.path.join(output_path, 'resampled_' + str(sr) + '_' + filename)\n",
    "                sf.write(save_path, y_resampled, sr)\n",
    "    \n",
    "    def min_max_normalise(self, audio):\n",
    "        y, sr = librosa.load(audio, sr=None)\n",
    "        \n",
    "        normalised_y = y / np.max(np.abs(y))\n",
    "        \n",
    "        return normalised_y, sr\n",
    "      \n",
    "    def min_max_normalise_folder(self, input_path, output_path):\n",
    "        for filename in os.listdir(input_path):\n",
    "            if filename.endswith('.wav'):\n",
    "                path = os.path.join(input_path, filename)\n",
    "                norm_wav, sr = self.min_max_normalise(path)\n",
    "                \n",
    "                save_path = os.path.join(output_path, 'norm_' + filename)\n",
    "                sf.write(save_path, norm_wav, sr)\n",
    "                \n",
    "    def wav_to_spec(self, wav):\n",
    "        \n",
    "    def spec_to_wav(self, spec): \n",
    "        \n",
    "    def wav_to_spec_folder(self, input_path, output_path):\n",
    "             \n",
    "    def spec_to_wav_folder(self, input_path, output_path): "
   ]
  },
  {
   "cell_type": "code",
   "execution_count": null,
   "metadata": {},
   "outputs": [],
   "source": [
    " "
   ]
  }
 ],
 "metadata": {
  "kernelspec": {
   "display_name": "Python 3",
   "language": "python",
   "name": "python3"
  },
  "language_info": {
   "name": "python",
   "version": "3.10.6"
  },
  "orig_nbformat": 4,
  "vscode": {
   "interpreter": {
    "hash": "916dbcbb3f70747c44a77c7bcd40155683ae19c65e1c03b4aa3499c5328201f1"
   }
  }
 },
 "nbformat": 4,
 "nbformat_minor": 2
}
