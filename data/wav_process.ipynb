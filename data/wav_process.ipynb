{
 "cells": [
  {
   "attachments": {},
   "cell_type": "markdown",
   "metadata": {},
   "source": [
    "# Spectrogram data preparation\n",
    "\n",
    "Aim: create a pipeline which creates a dataset of (spectrogram, caption) pairs\n",
    "\n",
    "1. Load from huggingface\n",
    "2. Inspect data\n",
    "3. Prepare dataset of first speaker\n"
   ]
  },
  {
   "cell_type": "code",
   "execution_count": null,
   "metadata": {},
   "outputs": [],
   "source": [
    "import torchaudio\n",
    "import librosa\n",
    "import librosa.display\n",
    "import numpy as np\n",
    "from torchaudio.transforms import Spectrogram\n",
    "from torchvision.transforms import functional as tf\n",
    "import matplotlib.pyplot as plt"
   ]
  },
  {
   "cell_type": "code",
   "execution_count": null,
   "metadata": {},
   "outputs": [],
   "source": [
    "# Check available datasetes\n",
    "\n",
    "from datasets import load_dataset, list_datasets\n",
    "\n",
    "dataset_lists = list_datasets()\n",
    "\n",
    "print(\", \".join(dataset for dataset in dataset_lists))"
   ]
  },
  {
   "cell_type": "code",
   "execution_count": null,
   "metadata": {},
   "outputs": [],
   "source": [
    "dataset = load_dataset(\"Loie/VGGSound\", split=\"train\")"
   ]
  },
  {
   "cell_type": "code",
   "execution_count": null,
   "metadata": {},
   "outputs": [],
   "source": [
    "print(dataset)\n",
    "dataset[0]"
   ]
  },
  {
   "attachments": {},
   "cell_type": "markdown",
   "metadata": {},
   "source": [
    "Mel spectrogram conversion"
   ]
  },
  {
   "cell_type": "code",
   "execution_count": null,
   "metadata": {},
   "outputs": [],
   "source": [
    "import torchaudio\n",
    "import torchaudio.transforms as transforms\n",
    "\n",
    "\n",
    "# Takes an existing dataset and creates a copy with a spectrogram columm - no prefix\n",
    "def transform_wav(dataset):\n",
    "    transformed_data = []\n",
    "\n",
    "    for data in dataset:\n",
    "        waveform, sample_rate = torchaudio.load(data[\"audio\"][\"path\"], normalize=True)\n",
    "\n",
    "        # Parameters: number of fourier bins & mel filter banks\n",
    "        n_fft = 256\n",
    "        n_mels = 80\n",
    "\n",
    "        transform = transforms.MelSpectrogram(\n",
    "            sample_rate=sample_rate, n_fft=n_fft, n_mels=n_mels\n",
    "        )\n",
    "\n",
    "        spectrogram = transform(waveform)\n",
    "\n",
    "        data[\"spectrogram\"] = spectrogram\n",
    "        transformed_data.append(data)\n",
    "\n",
    "    return transformed_data\n",
    "\n",
    "\n",
    "# Takes an existing dataset and creates a copy with a spectrogram column, allows selection of prefix\n",
    "def transform_wav(dataset, prefix):\n",
    "    prefix_len = len(prefix)\n",
    "    filtered_data = [d for d in dataset if d[\"id\"][:prefix_len] == prefix]\n",
    "\n",
    "    transformed_data = []\n",
    "\n",
    "    for data in filtered_data:\n",
    "        waveform, sample_rate = torchaudio.load(data[\"audio\"][\"path\"], normalize=True)\n",
    "\n",
    "        # Parameters: number of fourier bins & mel filter banks\n",
    "        n_fft = 256\n",
    "        n_mels = 80\n",
    "\n",
    "        transform = transforms.MelSpectrogram(\n",
    "            sample_rate=sample_rate, n_fft=n_fft, n_mels=n_mels\n",
    "        )\n",
    "\n",
    "        spectrogram = transform(waveform)\n",
    "\n",
    "        data[\"spectrogram\"] = spectrogram\n",
    "        transformed_data.append(data)\n",
    "\n",
    "    return transformed_data\n",
    "\n",
    "\n",
    "\"\"\" \n",
    "Transformation back into\n",
    "invers_transform = torchaudio.transforms.InverseMelScale(sample_rate=sample_rate, n_stft=n_stft)\n",
    "grifflim_transform = torchaudio.transforms.GriffinLim(n_fft=n_fft)\n",
    "\n",
    "mel_specgram = transform(waveform)\n",
    "inverse_waveform = invers_transform(mel_specgram)\n",
    "pseudo_waveform = grifflim_transform(inverse_waveform) \"\"\"\n",
    "\n",
    "test_dataset = transform_wav(dataset, \"LJ001\")"
   ]
  },
  {
   "cell_type": "code",
   "execution_count": null,
   "metadata": {},
   "outputs": [],
   "source": []
  },
  {
   "cell_type": "code",
   "execution_count": null,
   "metadata": {},
   "outputs": [],
   "source": [
    "# Convert tf records to pytorch tensors"
   ]
  }
 ],
 "metadata": {
  "kernelspec": {
   "display_name": "msc_diss",
   "language": "python",
   "name": "python3"
  },
  "language_info": {
   "codemirror_mode": {
    "name": "ipython",
    "version": 3
   },
   "file_extension": ".py",
   "mimetype": "text/x-python",
   "name": "python",
   "nbconvert_exporter": "python",
   "pygments_lexer": "ipython3",
   "version": "3.10.11"
  },
  "orig_nbformat": 4,
  "vscode": {
   "interpreter": {
    "hash": "5a72e5e1b89d6aca93f43995c0113c69f11f03ee989f354bc28ea86012bfefd8"
   }
  }
 },
 "nbformat": 4,
 "nbformat_minor": 2
}
