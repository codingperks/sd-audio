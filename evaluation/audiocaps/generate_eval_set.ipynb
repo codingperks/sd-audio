{
 "cells": [
  {
   "attachments": {},
   "cell_type": "markdown",
   "metadata": {},
   "source": [
    "To generate eval metrics, we run inference on our model to generate a test set.\n",
    "This code generates the images, then converts these images to audio for FAD and IS evaluation"
   ]
  },
  {
   "cell_type": "code",
   "execution_count": null,
   "metadata": {},
   "outputs": [],
   "source": [
    "from diffusers import StableDiffusionPipeline\n",
    "import torch\n",
    "import json\n",
    "import os\n",
    "from PIL import Image\n",
    "\n",
    "def generate_test_set(model, prompts, output_folder):\n",
    "    device = \"cuda\"\n",
    "    \n",
    "    # load model and weights\n",
    "    model_path = model\n",
    "    \n",
    "    pipe = StableDiffusionPipeline.from_pretrained(\n",
    "        \"runwayml/stable-diffusion-v1-5\",\n",
    "        torch_dtype=torch.float16,\n",
    "        safety_checker=None,\n",
    "        feature_extractor=None,\n",
    "        requires_safety_checker=False\n",
    "    )\n",
    "    \n",
    "    pipe.unet.load_attn_procs(model_path, weight_name=\"pytorch_model.bin\")\n",
    "    \n",
    "    # prepare output folder\n",
    "    os.makedirs(output_folder, exist_ok=True)\n",
    "    \n",
    "    pipe.to(device)\n",
    "     \n",
    "    for prompt in prompts:\n",
    "        caption = prompt.get(\"caption\")\n",
    "        youtube_id = prompt.get(\"youtube_id\")\n",
    "        \n",
    "        # Generate image\n",
    "        image = pipe(caption).images[0]\n",
    "        \n",
    "        # Convert torch tensor to PIL Image\n",
    "        image = Image.fromarray(image.cpu().numpy().astype(\"uint8\"))\n",
    "        \n",
    "        # Save the image\n",
    "        image.save(os.path.join(output_folder, f\"{youtube_id}.png\"))"
   ]
  },
  {
   "cell_type": "code",
   "execution_count": null,
   "metadata": {},
   "outputs": [],
   "source": [
    "generate_test_set(\"/home/ryan/diss/msc_diss/sdspeech/model/sd_ex/lora/out/08-07/0.0001_25000steps_5000warmup/checkpoint-4984-best\",\n",
    "                  \"test_captions.json\", \"data/test/image\")"
   ]
  }
 ],
 "metadata": {
  "kernelspec": {
   "display_name": "msc_diss",
   "language": "python",
   "name": "python3"
  },
  "language_info": {
   "codemirror_mode": {
    "name": "ipython",
    "version": 3
   },
   "file_extension": ".py",
   "mimetype": "text/x-python",
   "name": "python",
   "nbconvert_exporter": "python",
   "pygments_lexer": "ipython3",
   "version": "3.10.12"
  },
  "orig_nbformat": 4,
  "vscode": {
   "interpreter": {
    "hash": "5a72e5e1b89d6aca93f43995c0113c69f11f03ee989f354bc28ea86012bfefd8"
   }
  }
 },
 "nbformat": 4,
 "nbformat_minor": 2
}
