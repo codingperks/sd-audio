{
 "cells": [
  {
   "attachments": {},
   "cell_type": "markdown",
   "metadata": {},
   "source": [
    "Experiment with spec conversion"
   ]
  },
  {
   "cell_type": "code",
   "execution_count": 69,
   "metadata": {},
   "outputs": [],
   "source": [
    "from utils.spectrogram_converter import SpectrogramConverter\n",
    "from utils.spectrogram_params import SpectrogramParams\n",
    "from utils.riff_util import image_util\n",
    "import os\n",
    "from pydub import AudioSegment\n",
    "import matplotlib.pyplot as plt\n",
    "import numpy as np\n",
    "from PIL import Image\n",
    "\n",
    "params = SpectrogramParams()\n",
    "\n",
    "converter = SpectrogramConverter(params)\n"
   ]
  },
  {
   "cell_type": "code",
   "execution_count": 70,
   "metadata": {},
   "outputs": [
    {
     "name": "stderr",
     "output_type": "stream",
     "text": [
      "sh: 1: start: not found\n"
     ]
    },
    {
     "data": {
      "text/plain": [
       "32512"
      ]
     },
     "execution_count": 70,
     "metadata": {},
     "output_type": "execute_result"
    }
   ],
   "source": [
    "# experiment label\n",
    "label = \"Bird vocalization-bird call-bird song\"\n",
    "\n",
    "# set paths\n",
    "wav_source = \"./AudioSet/wav/\" + label\n",
    "spec_dest = \"./AudioSet/spec/\" + label\n",
    "os.makedirs(spec_dest, exist_ok=True)\n",
    "\n",
    "test = AudioSegment.from_wav(wav_source + \"/EtPIEB0fbzA.wav\")\n",
    "\n",
    "spec_test = converter.spectrogram_from_audio(test)\n",
    "\n",
    "spec_test = image_util.image_from_spectrogram(spec_test)\n",
    "\n",
    "spec_test.save(spec_dest + \"test.png\")\n",
    "\n",
    "os.system(f\" start {spec_dest}\")\n",
    "\n"
   ]
  },
  {
   "cell_type": "code",
   "execution_count": 71,
   "metadata": {},
   "outputs": [
    {
     "data": {
      "text/plain": [
       "<_io.BufferedRandom name='./AudioSet/spec/Bird vocalization-bird call-bird songtest_conversion.wav'>"
      ]
     },
     "execution_count": 71,
     "metadata": {},
     "output_type": "execute_result"
    }
   ],
   "source": [
    "from utils.spectrogram_image_converter import SpectrogramImageConverter\n",
    "\n",
    "converter = SpectrogramImageConverter(params)\n",
    "\n",
    "image = Image.open(spec_dest + \"test.png\")\n",
    "\n",
    "audio_test = converter.audio_from_spectrogram_image(image)\n",
    "\n",
    "audio_test.export(spec_dest + \"test_conversion.wav\", format=\"wav\")\n",
    "\n",
    "\n",
    "\n"
   ]
  }
 ],
 "metadata": {
  "kernelspec": {
   "display_name": "msc_diss",
   "language": "python",
   "name": "python3"
  },
  "language_info": {
   "codemirror_mode": {
    "name": "ipython",
    "version": 3
   },
   "file_extension": ".py",
   "mimetype": "text/x-python",
   "name": "python",
   "nbconvert_exporter": "python",
   "pygments_lexer": "ipython3",
   "version": "3.10.11"
  },
  "orig_nbformat": 4,
  "vscode": {
   "interpreter": {
    "hash": "5a72e5e1b89d6aca93f43995c0113c69f11f03ee989f354bc28ea86012bfefd8"
   }
  }
 },
 "nbformat": 4,
 "nbformat_minor": 2
}
