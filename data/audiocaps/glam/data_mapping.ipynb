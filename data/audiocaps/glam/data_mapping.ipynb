{
 "cells": [
  {
   "cell_type": "code",
   "execution_count": 25,
   "metadata": {},
   "outputs": [],
   "source": [
    "# Compare glam AS to AC dataset\n",
    "# Create dict of AC ids\n",
    "# Create list of downloaded files from glamn csvs\n",
    "# Compare\n",
    "# Output "
   ]
  },
  {
   "cell_type": "code",
   "execution_count": 26,
   "metadata": {},
   "outputs": [],
   "source": [
    "import csv\n",
    "import numpy as np\n",
    "\n",
    "def scrape_id_set(filepath):\n",
    "    youtube_id_set = set()\n",
    "\n",
    "    with open(filepath, 'r') as file:\n",
    "        csv_reader = csv.reader(file)\n",
    "        for row in csv_reader:\n",
    "            if row:\n",
    "                youtube_id_set.add(row[0])\n",
    "\n",
    "    return youtube_id_set\n",
    "\n",
    "\n",
    "def scrape_id_dict(filepath, split):\n",
    "    youtube_id_dict = {}\n",
    "\n",
    "    with open(filepath, 'r') as file:\n",
    "        csv_reader = csv.DictReader(file)\n",
    "        for row in csv_reader:\n",
    "            youtube_id = row['youtube_id']\n",
    "            youtube_id_dict[youtube_id] = split\n",
    "\n",
    "    return youtube_id_dict"
   ]
  },
  {
   "cell_type": "code",
   "execution_count": 27,
   "metadata": {},
   "outputs": [
    {
     "name": "stdout",
     "output_type": "stream",
     "text": [
      "51308\n"
     ]
    }
   ],
   "source": [
    "# Identify AC IDs\n",
    "\n",
    "ac_test = \"metadata/ac/test.csv\"\n",
    "ac_val = \"metadata/ac/val.csv\"\n",
    "ac_train = \"metadata/ac/train.csv\"\n",
    "\n",
    "ac_data = [ac_test, ac_val, ac_train]\n",
    "\n",
    "names = [\"test\", \"val\", \"train\"]\n",
    "ac_ids = {}\n",
    "\n",
    "for file, name in zip(ac_data, names):\n",
    "    ac_ids.update(scrape_id_dict(file, [name]))\n",
    "\n",
    "print(len(ac_ids))\n",
    "\n"
   ]
  },
  {
   "cell_type": "code",
   "execution_count": 29,
   "metadata": {},
   "outputs": [
    {
     "name": "stdout",
     "output_type": "stream",
     "text": [
      "1664200\n"
     ]
    }
   ],
   "source": [
    "# Identify glam downloads\n",
    "\n",
    "glam_train_bal = \"metadata/balanced_train_segments-downloaded.csv\"\n",
    "glam_train_unbal = \"metadata/unbalanced_train_segments-downloaded.csv\"\n",
    "glam_eval = \"metadata/eval_segments-downloaded.csv\"\n",
    "\n",
    "glam = [glam_train_bal, glam_train_unbal, glam_eval]\n",
    "\n",
    "ids = set()\n",
    "\n",
    "for file in glam:\n",
    "    ids.update(scrape_id_set(file))\n",
    "    \n",
    "print(len(ids))\n",
    "\n"
   ]
  },
  {
   "cell_type": "code",
   "execution_count": 35,
   "metadata": {},
   "outputs": [
    {
     "name": "stdout",
     "output_type": "stream",
     "text": [
      "43230\n",
      "{('train',): 41976, ('test',): 836, ('val',): 418}\n",
      "8078\n",
      "{('train',): 7862, ('test',): 139, ('val',): 77}\n"
     ]
    }
   ],
   "source": [
    "# Now that I have IDs from GLAM and IDs of AC, I need to identify missing and found files\n",
    "matching_ac = {}\n",
    "missing_ac = {}\n",
    "\n",
    "matching_counts = {}\n",
    "missing_counts = {}\n",
    "\n",
    "for split in set(tuple(split_list) for split_list in ac_ids.values()):\n",
    "    matching_counts[split] = 0\n",
    "    missing_counts[split] = 0\n",
    "\n",
    "for y_id, split in ac_ids.items():\n",
    "    if y_id in ids:\n",
    "        matching_ac[y_id] = split\n",
    "        matching_counts[tuple(split)] += 1\n",
    "    else:\n",
    "        missing_ac[y_id] = split\n",
    "        missing_counts[tuple(split)] += 1\n",
    "\n",
    "print(len(matching_ac))\n",
    "print(matching_counts)\n",
    "print(len(missing_ac))\n",
    "print(missing_counts)\n"
   ]
  },
  {
   "cell_type": "code",
   "execution_count": null,
   "metadata": {},
   "outputs": [],
   "source": [
    "\n"
   ]
  }
 ],
 "metadata": {
  "kernelspec": {
   "display_name": "msc_diss",
   "language": "python",
   "name": "python3"
  },
  "language_info": {
   "codemirror_mode": {
    "name": "ipython",
    "version": 3
   },
   "file_extension": ".py",
   "mimetype": "text/x-python",
   "name": "python",
   "nbconvert_exporter": "python",
   "pygments_lexer": "ipython3",
   "version": "3.10.12"
  },
  "orig_nbformat": 4,
  "vscode": {
   "interpreter": {
    "hash": "927977298957074974592afb32083d5119a68058bec82c8d0a9081db9b483b98"
   }
  }
 },
 "nbformat": 4,
 "nbformat_minor": 2
}
