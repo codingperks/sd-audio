{
 "cells": [
  {
   "attachments": {},
   "cell_type": "markdown",
   "metadata": {},
   "source": [
    "Experiment with spec conversion"
   ]
  },
  {
   "cell_type": "code",
   "execution_count": 2,
   "metadata": {},
   "outputs": [],
   "source": [
    "from utils.spectrogram_converter import SpectrogramConverter\n",
    "from utils.spectrogram_params import SpectrogramParams\n",
    "from utils.riff_util import image_util\n",
    "import os\n",
    "import pydub\n",
    "import matplotlib.pyplot as plt\n",
    "import numpy as np\n",
    "from PIL import Image\n",
    "from IPython.display import Audio, display\n",
    "import typing as T\n",
    "from utils.spectrogram_image_converter import SpectrogramImageConverter"
   ]
  },
  {
   "cell_type": "code",
   "execution_count": 3,
   "metadata": {},
   "outputs": [],
   "source": [
    "converter = SpectrogramConverter(SpectrogramParams())"
   ]
  },
  {
   "cell_type": "code",
   "execution_count": 4,
   "metadata": {},
   "outputs": [
    {
     "name": "stdout",
     "output_type": "stream",
     "text": [
      "Saved ./AudioSet/spec/Bird vocalization-bird call-bird song.png\n",
      "Saved ./AudioSet/spec/Bird vocalization-bird call-bird song.wav\n",
      "Saved ./AudioSet/spec/Bird vocalization-bird call-bird song.wav\n"
     ]
    },
    {
     "data": {
      "text/plain": [
       "' # Convert to np array of amplitudes\\nspec_test = converter.spectrogram_from_audio(segment)\\n\\n# Convert array to spectrogram image\\nspec_test = image_util.image_from_spectrogram(spec_test)\\n\\n# Save\\nspec_test.save(spec_dest + \"test.png\")\\nos.system(f\" start {spec_dest}\") '"
      ]
     },
     "execution_count": 4,
     "metadata": {},
     "output_type": "execute_result"
    }
   ],
   "source": [
    "# Set up\n",
    "device = os.environ.get(\"RIFFUSION_TEST_DEVICE\", \"cuda\")\n",
    "\n",
    "# experiment label\n",
    "label = \"Bird vocalization-bird call-bird song\"\n",
    "\n",
    "# set paths\n",
    "wav_source = \"./AudioSet/wav/\" + label\n",
    "spec_dest = \"./AudioSet/spec/\" + label\n",
    "os.makedirs(spec_dest, exist_ok=True)\n",
    "\n",
    "# Convert wav to audiosegment\n",
    "segment = pydub.AudioSegment.from_wav(wav_source + \"/EtPIEB0fbzA.wav\")\n",
    "\n",
    "# Convert to mono if desired\n",
    "use_stereo = False\n",
    "if use_stereo:\n",
    "    assert segment.channels == 2\n",
    "else:\n",
    "    segment = segment.set_channels(1)\n",
    "\n",
    "# Define named sets of parameters\n",
    "param_sets: T.Dict[str, SpectrogramParams] = {}\n",
    "\n",
    "param_sets[\"default\"] = SpectrogramParams(\n",
    "    sample_rate=segment.frame_rate,\n",
    "    stereo=use_stereo,\n",
    "    step_size_ms=20,\n",
    "    min_frequency=20,\n",
    "    max_frequency=20000,\n",
    "    num_frequencies=512,\n",
    ")\n",
    "\n",
    "segments: T.Dict[str, pydub.AudioSegment] = {\n",
    "            \"original\": segment,\n",
    "        } \n",
    "images: T.Dict[str, Image.Image] = {}\n",
    "for name, params in param_sets.items():\n",
    "    converter = SpectrogramImageConverter(params=params, device=device)\n",
    "    images[name] = converter.spectrogram_image_from_audio(segment)\n",
    "    segments[name] = converter.audio_from_spectrogram_image(\n",
    "        image=images[name],\n",
    "        apply_filters=True,\n",
    "    )\n",
    "\n",
    "# Save images to disk\n",
    "for name, image in images.items():\n",
    "    image_out = spec_dest + \".png\"\n",
    "    image.save(image_out, exif=image.getexif(), format=\"PNG\")\n",
    "    print(f\"Saved {image_out}\")\n",
    "\n",
    "# Save segments to disk\n",
    "for name, segment in segments.items():\n",
    "    audio_out = spec_dest + \".wav\"\n",
    "    segment.export(audio_out, format=\"wav\")\n",
    "    print(f\"Saved {audio_out}\")\n",
    "\n",
    "\"\"\" # Convert to np array of amplitudes\n",
    "spec_test = converter.spectrogram_from_audio(segment)\n",
    "\n",
    "# Convert array to spectrogram image\n",
    "spec_test = image_util.image_from_spectrogram(spec_test)\n",
    "\n",
    "# Save\n",
    "spec_test.save(spec_dest + \"test.png\")\n",
    "os.system(f\" start {spec_dest}\") \"\"\""
   ]
  },
  {
   "cell_type": "code",
   "execution_count": 5,
   "metadata": {},
   "outputs": [
    {
     "data": {
      "text/plain": [
       "' from utils.spectrogram_image_converter import SpectrogramImageConverter\\n\\nconverter = SpectrogramImageConverter(SpectrogramParams())\\n\\n# Open spectrogram image\\nimage = Image.open(spec_dest + \"test.png\")\\n\\n# Convert image to wav\\naudio_test = converter.audio_from_spectrogram_image(image)\\n\\n# Save wav\\naudio_test.export(spec_dest + \"test_conversion.wav\", format=\"wav\") '"
      ]
     },
     "execution_count": 5,
     "metadata": {},
     "output_type": "execute_result"
    }
   ],
   "source": [
    "\"\"\" from utils.spectrogram_image_converter import SpectrogramImageConverter\n",
    "\n",
    "converter = SpectrogramImageConverter(SpectrogramParams())\n",
    "\n",
    "# Open spectrogram image\n",
    "image = Image.open(spec_dest + \"test.png\")\n",
    "\n",
    "# Convert image to wav\n",
    "audio_test = converter.audio_from_spectrogram_image(image)\n",
    "\n",
    "# Save wav\n",
    "audio_test.export(spec_dest + \"test_conversion.wav\", format=\"wav\") \"\"\""
   ]
  },
  {
   "cell_type": "code",
   "execution_count": 6,
   "metadata": {},
   "outputs": [
    {
     "data": {
      "text/plain": [
       "' from processor import *\\nfrom pydub import AudioSegment\\nimport os\\n\\n# experiment label\\nlabel = \"Bird vocalization-bird call-bird song\"\\n\\n# set paths\\nwav_source = \"./AudioSet/wav/\" + label\\nspec_dest = \"./AudioSet/spec/\" + label\\nos.makedirs(spec_dest, exist_ok=True)\\n\\nwaveform, sample_rate = torchaudio.load(wav_source + \"/EtPIEB0fbzA.wav\")\\n\\nprocessor = Processor(n_fft = 256, n_mels = 80, sample_rate = sample_rate)\\n\\nspec = processor.wav_to_spec(waveform)\\n\\nwav_from_spec = processor.spec_to_wav(spec)\\n\\nprocessor.play_wav(wav_from_spec) '"
      ]
     },
     "execution_count": 6,
     "metadata": {},
     "output_type": "execute_result"
    }
   ],
   "source": [
    "\"\"\" from processor import *\n",
    "from pydub import AudioSegment\n",
    "import os\n",
    "\n",
    "# experiment label\n",
    "label = \"Bird vocalization-bird call-bird song\"\n",
    "\n",
    "# set paths\n",
    "wav_source = \"./AudioSet/wav/\" + label\n",
    "spec_dest = \"./AudioSet/spec/\" + label\n",
    "os.makedirs(spec_dest, exist_ok=True)\n",
    "\n",
    "waveform, sample_rate = torchaudio.load(wav_source + \"/EtPIEB0fbzA.wav\")\n",
    "\n",
    "processor = Processor(n_fft = 256, n_mels = 80, sample_rate = sample_rate)\n",
    "\n",
    "spec = processor.wav_to_spec(waveform)\n",
    "\n",
    "wav_from_spec = processor.spec_to_wav(spec)\n",
    "\n",
    "processor.play_wav(wav_from_spec) \"\"\""
   ]
  },
  {
   "cell_type": "code",
   "execution_count": 7,
   "metadata": {},
   "outputs": [
    {
     "data": {
      "text/plain": [
       "' # experiment label\\nlabel = \"Bird vocalization-bird call-bird song\"\\n\\n# set paths\\nwav_source = \"./utils/riff_util/test_data/tired_traveler/clips/clip_0_start_15795_ms_duration_5678_ms.wav\"\\nspec_dest = \"./utils/riff_util/test_data/tired_traveler/images/clip_0.png\"\\n\\n# Convert wav to audiosegment\\ntest = AudioSegment.from_wav(wav_source)\\n\\n# Convert to np array of amplitudes\\nspec_test = converter.spectrogram_from_audio(test)\\n\\n# Convert array to spectrogram image\\nspec_test = image_util.image_from_spectrogram(spec_test)\\n\\n# Save\\nspec_test.save(spec_dest)\\nos.system(f\" start {spec_dest}\") '"
      ]
     },
     "execution_count": 7,
     "metadata": {},
     "output_type": "execute_result"
    }
   ],
   "source": [
    "\"\"\" # experiment label\n",
    "label = \"Bird vocalization-bird call-bird song\"\n",
    "\n",
    "# set paths\n",
    "wav_source = \"./utils/riff_util/test_data/tired_traveler/clips/clip_0_start_15795_ms_duration_5678_ms.wav\"\n",
    "spec_dest = \"./utils/riff_util/test_data/tired_traveler/images/clip_0.png\"\n",
    "\n",
    "# Convert wav to audiosegment\n",
    "test = AudioSegment.from_wav(wav_source)\n",
    "\n",
    "# Convert to np array of amplitudes\n",
    "spec_test = converter.spectrogram_from_audio(test)\n",
    "\n",
    "# Convert array to spectrogram image\n",
    "spec_test = image_util.image_from_spectrogram(spec_test)\n",
    "\n",
    "# Save\n",
    "spec_test.save(spec_dest)\n",
    "os.system(f\" start {spec_dest}\") \"\"\""
   ]
  },
  {
   "cell_type": "code",
   "execution_count": 8,
   "metadata": {},
   "outputs": [
    {
     "data": {
      "text/plain": [
       "' from utils.spectrogram_image_converter import SpectrogramImageConverter\\n\\nconverter = SpectrogramImageConverter(SpectrogramParams())\\n\\n# Open spectrogram image\\nimage = Image.open(spec_dest)\\n\\n# Convert image to wav\\naudio_test = converter.audio_from_spectrogram_image(image)\\n\\n# Save wav\\naudio_test.export(spec_dest + \"test_conversion.wav\", format=\"wav\") '"
      ]
     },
     "execution_count": 8,
     "metadata": {},
     "output_type": "execute_result"
    }
   ],
   "source": [
    "\"\"\" from utils.spectrogram_image_converter import SpectrogramImageConverter\n",
    "\n",
    "converter = SpectrogramImageConverter(SpectrogramParams())\n",
    "\n",
    "# Open spectrogram image\n",
    "image = Image.open(spec_dest)\n",
    "\n",
    "# Convert image to wav\n",
    "audio_test = converter.audio_from_spectrogram_image(image)\n",
    "\n",
    "# Save wav\n",
    "audio_test.export(spec_dest + \"test_conversion.wav\", format=\"wav\") \"\"\""
   ]
  }
 ],
 "metadata": {
  "kernelspec": {
   "display_name": "msc_diss",
   "language": "python",
   "name": "python3"
  },
  "language_info": {
   "codemirror_mode": {
    "name": "ipython",
    "version": 3
   },
   "file_extension": ".py",
   "mimetype": "text/x-python",
   "name": "python",
   "nbconvert_exporter": "python",
   "pygments_lexer": "ipython3",
   "version": "3.10.11"
  },
  "orig_nbformat": 4,
  "vscode": {
   "interpreter": {
    "hash": "5a72e5e1b89d6aca93f43995c0113c69f11f03ee989f354bc28ea86012bfefd8"
   }
  }
 },
 "nbformat": 4,
 "nbformat_minor": 2
}
