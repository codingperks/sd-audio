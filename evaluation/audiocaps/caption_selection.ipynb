{
 "cells": [
  {
   "attachments": {},
   "cell_type": "markdown",
   "metadata": {},
   "source": [
    "AudioCaps test data contains 5 captions for each sample. We need to randomly select one caption for each sample to generate our data"
   ]
  },
  {
   "cell_type": "code",
   "execution_count": 9,
   "metadata": {},
   "outputs": [],
   "source": [
    "import pandas as pd\n",
    "import json\n",
    "import random\n",
    "\n",
    "def generate_caption_csv(input_csv, output_path):\n",
    "    # for every youtube_ID, randomly return one caption, save in df, spit out into separate file\n",
    "    # Read the CSV file into a DataFrame\n",
    "    df = pd.read_csv(input_csv)\n",
    "    \n",
    "    # Create an empty list to store sampled rows\n",
    "    sampled_rows = []\n",
    "\n",
    "    # Get unique youtube_ids\n",
    "    unique_youtube_ids = df['youtube_id'].unique()\n",
    "    \n",
    "    # Randomly sample one row for each unique youtube_id\n",
    "    for youtube_id in unique_youtube_ids:\n",
    "        rows = df[df['youtube_id'] == youtube_id]\n",
    "        sampled_row = rows.sample(n=1)\n",
    "        sampled_rows.append(sampled_row.iloc[0].to_dict())\n",
    "        \n",
    "    # Convert the list of sampled rows to a DataFrame\n",
    "    sampled_df = pd.DataFrame(sampled_rows)\n",
    "\n",
    "    \n",
    "    # Convert sampled DataFrame to JSON format\n",
    "    caption_json = sampled_df.to_json(orient='records')\n",
    "    \n",
    "    # Save JSON to file\n",
    "    with open(output_path, 'w') as f:\n",
    "        json.dump(json.loads(caption_json), f, indent=4)\n"
   ]
  },
  {
   "cell_type": "code",
   "execution_count": 10,
   "metadata": {},
   "outputs": [],
   "source": [
    "generate_caption_csv(\"../../data/audiocaps/dataset/test.csv\", \"test_captions.json\")"
   ]
  }
 ],
 "metadata": {
  "kernelspec": {
   "display_name": "msc_diss",
   "language": "python",
   "name": "python3"
  },
  "language_info": {
   "codemirror_mode": {
    "name": "ipython",
    "version": 3
   },
   "file_extension": ".py",
   "mimetype": "text/x-python",
   "name": "python",
   "nbconvert_exporter": "python",
   "pygments_lexer": "ipython3",
   "version": "3.10.12"
  },
  "orig_nbformat": 4,
  "vscode": {
   "interpreter": {
    "hash": "5a72e5e1b89d6aca93f43995c0113c69f11f03ee989f354bc28ea86012bfefd8"
   }
  }
 },
 "nbformat": 4,
 "nbformat_minor": 2
}
