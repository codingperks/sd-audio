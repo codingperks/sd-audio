{
 "cells": [
  {
   "attachments": {},
   "cell_type": "markdown",
   "metadata": {},
   "source": [
    "# Spectrogram data preparation\n",
    "\n",
    "Aim: create a pipeline which creates a dataset of (spectrogram, caption) pairs\n",
    "\n",
    "1. Load from huggingface\n",
    "2. Inspect data\n",
    "3. Prepare dataset of first speaker\n"
   ]
  },
  {
   "cell_type": "code",
   "execution_count": null,
   "metadata": {},
   "outputs": [],
   "source": [
    "# Check available datasetes\n",
    "\n",
    "from datasets import load_dataset, list_datasets\n",
    "\n",
    "\"\"\" dataset_lists = list_datasets()\n",
    "\n",
    "print(', '.join(dataset for dataset in dataset_lists)) \"\"\""
   ]
  },
  {
   "cell_type": "code",
   "execution_count": 11,
   "metadata": {},
   "outputs": [
    {
     "name": "stderr",
     "output_type": "stream",
     "text": [
      "Found cached dataset lj_speech (/home/ryan/.cache/huggingface/datasets/lj_speech/main/1.1.0/6e03b5308ab68705d902e2bbeaff59feb283307770fafb8d6704e604b6d179aa)\n"
     ]
    }
   ],
   "source": [
    "dataset = load_dataset('lj_speech', split='train')"
   ]
  },
  {
   "cell_type": "code",
   "execution_count": 14,
   "metadata": {},
   "outputs": [
    {
     "name": "stdout",
     "output_type": "stream",
     "text": [
      "Dataset({\n",
      "    features: ['id', 'audio', 'file', 'text', 'normalized_text'],\n",
      "    num_rows: 13100\n",
      "})\n"
     ]
    },
    {
     "data": {
      "text/plain": [
       "{'id': 'LJ001-0001',\n",
       " 'audio': {'path': '/home/ryan/.cache/huggingface/datasets/downloads/extracted/767c76e13c24c1cc26025e0fbcf1d4fe53cfaa6521aac12a67eac69b9fa07ab2/LJSpeech-1.1/wavs/LJ001-0001.wav',\n",
       "  'array': array([-7.32421875e-04, -7.62939453e-04, -6.40869141e-04, ...,\n",
       "          7.32421875e-04,  2.13623047e-04,  6.10351562e-05]),\n",
       "  'sampling_rate': 22050},\n",
       " 'file': '/home/ryan/.cache/huggingface/datasets/downloads/extracted/767c76e13c24c1cc26025e0fbcf1d4fe53cfaa6521aac12a67eac69b9fa07ab2/LJSpeech-1.1/wavs/LJ001-0001.wav',\n",
       " 'text': 'Printing, in the only sense with which we are at present concerned, differs from most if not from all the arts and crafts represented in the Exhibition',\n",
       " 'normalized_text': 'Printing, in the only sense with which we are at present concerned, differs from most if not from all the arts and crafts represented in the Exhibition'}"
      ]
     },
     "execution_count": 14,
     "metadata": {},
     "output_type": "execute_result"
    }
   ],
   "source": [
    "print(dataset)\n",
    "dataset[0]"
   ]
  },
  {
   "cell_type": "code",
   "execution_count": 15,
   "metadata": {},
   "outputs": [
    {
     "data": {
      "application/vnd.jupyter.widget-view+json": {
       "model_id": "33d05e1ca1874b3ead10b5b35d5cac2d",
       "version_major": 2,
       "version_minor": 0
      },
      "text/plain": [
       "Filter:   0%|          | 0/13100 [00:00<?, ? examples/s]"
      ]
     },
     "metadata": {},
     "output_type": "display_data"
    },
    {
     "name": "stdout",
     "output_type": "stream",
     "text": [
      "Dataset({\n",
      "    features: ['id', 'audio', 'file', 'text', 'normalized_text'],\n",
      "    num_rows: 186\n",
      "})\n"
     ]
    }
   ],
   "source": [
    "# separate dataset to only LJ001 for initial experiments\n",
    "\n",
    "lj1 =  dataset.filter(lambda example: example[\"id\"].startswith(\"LJ001\"))\n",
    "\n",
    "print(lj1)\n"
   ]
  },
  {
   "cell_type": "code",
   "execution_count": 16,
   "metadata": {},
   "outputs": [
    {
     "data": {
      "application/vnd.jupyter.widget-view+json": {
       "model_id": "dc08731ae93148e887779702638c90de",
       "version_major": 2,
       "version_minor": 0
      },
      "text/plain": [
       "Saving the dataset (0/1 shards):   0%|          | 0/186 [00:00<?, ? examples/s]"
      ]
     },
     "metadata": {},
     "output_type": "display_data"
    }
   ],
   "source": [
    "lj1.save_to_disk(\"/home/ryan/diss/msc_diss/sdspeech/data/training/audio/speech/LJSpeech/LJ1\")"
   ]
  },
  {
   "cell_type": "code",
   "execution_count": null,
   "metadata": {},
   "outputs": [],
   "source": [
    "import librosa\n",
    "\n",
    "# Convert .wav to spectrograms\n",
    "# Experiment with one\n",
    "\n",
    "\n"
   ]
  }
 ],
 "metadata": {
  "kernelspec": {
   "display_name": "msc_diss",
   "language": "python",
   "name": "python3"
  },
  "language_info": {
   "codemirror_mode": {
    "name": "ipython",
    "version": 3
   },
   "file_extension": ".py",
   "mimetype": "text/x-python",
   "name": "python",
   "nbconvert_exporter": "python",
   "pygments_lexer": "ipython3",
   "version": "3.10.11"
  },
  "orig_nbformat": 4,
  "vscode": {
   "interpreter": {
    "hash": "5a72e5e1b89d6aca93f43995c0113c69f11f03ee989f354bc28ea86012bfefd8"
   }
  }
 },
 "nbformat": 4,
 "nbformat_minor": 2
}
