{
 "cells": [
  {
   "cell_type": "code",
   "execution_count": 3,
   "metadata": {},
   "outputs": [
    {
     "name": "stderr",
     "output_type": "stream",
     "text": [
      "`text_config_dict` is provided which will be used to initialize `CLIPTextConfig`. The value `text_config[\"id2label\"]` will be overriden.\n"
     ]
    }
   ],
   "source": [
    "# Load model\n",
    "from diffusers import StableDiffusionPipeline\n",
    "\n",
    "repo_id = model_name\n",
    "pipe = StableDiffusionPipeline.from_pretrained(repo_id)"
   ]
  },
  {
   "cell_type": "code",
   "execution_count": null,
   "metadata": {},
   "outputs": [
    {
     "data": {
      "application/vnd.jupyter.widget-view+json": {
       "model_id": "5121cd3042a54d12864360c4ea338904",
       "version_major": 2,
       "version_minor": 0
      },
      "text/plain": [
       "Fetching 5 files:   0%|          | 0/5 [00:00<?, ?it/s]"
      ]
     },
     "metadata": {},
     "output_type": "display_data"
    },
    {
     "data": {
      "text/plain": [
       "'/home/ryan/diss/msc_diss/sdspeech/model/sd_ex/db/dog'"
      ]
     },
     "execution_count": 3,
     "metadata": {},
     "output_type": "execute_result"
    }
   ],
   "source": [
    "\"\"\" from huggingface_hub import snapshot_download\n",
    "\n",
    "local_dir = \"./dog\"\n",
    "snapshot_download(\n",
    "    \"diffusers/dog-example\",\n",
    "    local_dir=local_dir,\n",
    "    repo_type=\"dataset\",\n",
    "    ignore_patterns=\".gitattributes\",\n",
    ") \"\"\""
   ]
  },
  {
   "cell_type": "code",
   "execution_count": 2,
   "metadata": {},
   "outputs": [
    {
     "name": "stdout",
     "output_type": "stream",
     "text": [
      "master_addr is only used for static rdzv_backend and when rdzv_endpoint is not specified.\n",
      "[2023-06-16 15:01:31,137] [INFO] [real_accelerator.py:110:get_accelerator] Setting ds_accelerator to cuda (auto detect)\n",
      "\u001b[2;36m[06/16/23 15:01:33]\u001b[0m\u001b[2;36m \u001b[0m\u001b[34mINFO    \u001b[0m colossalai - colossalai - INFO:                    \n",
      "\u001b[2;36m                    \u001b[0m         \u001b[35m/home/ryan/miniconda3/envs/msc_diss/lib/python3.10/\u001b[0m\n",
      "\u001b[2;36m                    \u001b[0m         \u001b[35msite-packages/colossalai/context/\u001b[0m\u001b[95mparallel_context.p\u001b[0m\n",
      "\u001b[2;36m                    \u001b[0m         \u001b[95my\u001b[0m:\u001b[1;36m522\u001b[0m set_device                                   \n",
      "\u001b[2;36m                   \u001b[0m\u001b[2;36m \u001b[0m\u001b[34mINFO    \u001b[0m colossalai - colossalai - INFO: process rank \u001b[1;36m0\u001b[0m is  \n",
      "\u001b[2;36m                    \u001b[0m         bound to device \u001b[1;36m0\u001b[0m                                  \n",
      "\u001b[2;36m                   \u001b[0m\u001b[2;36m \u001b[0m\u001b[34mINFO    \u001b[0m colossalai - colossalai - INFO:                    \n",
      "\u001b[2;36m                    \u001b[0m         \u001b[35m/home/ryan/miniconda3/envs/msc_diss/lib/python3.10/\u001b[0m\n",
      "\u001b[2;36m                    \u001b[0m         \u001b[35msite-packages/colossalai/context/\u001b[0m\u001b[95mparallel_context.p\u001b[0m\n",
      "\u001b[2;36m                    \u001b[0m         \u001b[95my\u001b[0m:\u001b[1;36m558\u001b[0m set_seed                                     \n",
      "\u001b[2;36m                   \u001b[0m\u001b[2;36m \u001b[0m\u001b[34mINFO    \u001b[0m colossalai - colossalai - INFO: initialized seed on\n",
      "\u001b[2;36m                    \u001b[0m         rank \u001b[1;36m0\u001b[0m, numpy: \u001b[1;36m1024\u001b[0m, python random: \u001b[1;36m1024\u001b[0m,          \n",
      "\u001b[2;36m                    \u001b[0m         ParallelMode.DATA: \u001b[1;36m1024\u001b[0m, ParallelMode.TENSOR:      \n",
      "\u001b[2;36m                    \u001b[0m         \u001b[1;36m1024\u001b[0m,the default parallel seed is                  \n",
      "\u001b[2;36m                    \u001b[0m         ParallelMode.DATA.                                 \n",
      "\u001b[2;36m                   \u001b[0m\u001b[2;36m \u001b[0m\u001b[34mINFO    \u001b[0m colossalai - colossalai - INFO:                    \n",
      "\u001b[2;36m                    \u001b[0m         \u001b[35m/home/ryan/miniconda3/envs/msc_diss/lib/python3.10/\u001b[0m\n",
      "\u001b[2;36m                    \u001b[0m         \u001b[35msite-packages/colossalai/\u001b[0m\u001b[95minitialize.py\u001b[0m:\u001b[1;36m115\u001b[0m launch  \n",
      "\u001b[2;36m                   \u001b[0m\u001b[2;36m \u001b[0m\u001b[34mINFO    \u001b[0m colossalai - colossalai - INFO: Distributed        \n",
      "\u001b[2;36m                    \u001b[0m         environment is initialized, data parallel size: \u001b[1;36m1\u001b[0m, \n",
      "\u001b[2;36m                    \u001b[0m         pipeline parallel size: \u001b[1;36m1\u001b[0m, tensor parallel size: \u001b[1;36m1\u001b[0m \n",
      "\u001b[2;36m                   \u001b[0m\u001b[2;36m \u001b[0m\u001b[34mINFO    \u001b[0m colossalai - colossalai - INFO:                    \n",
      "\u001b[2;36m                    \u001b[0m         \u001b[35m/home/ryan/diss/msc_diss/sdspeech/model/sd_ex/\u001b[0m\u001b[95mtrain\u001b[0m\n",
      "\u001b[2;36m                    \u001b[0m         \u001b[95m_dreambooth_colossalai.py\u001b[0m:\u001b[1;36m437\u001b[0m main                 \n",
      "\u001b[2;36m                   \u001b[0m\u001b[2;36m \u001b[0m\u001b[34mINFO    \u001b[0m colossalai - colossalai - INFO: Loading tokenizer  \n",
      "\u001b[2;36m                    \u001b[0m         from pretrained model                              \n",
      "You are using a model of type clip_text_model to instantiate a model of type . This is not supported for all configurations of models and can yield errors.\n",
      "\u001b[2;36m[06/16/23 15:01:34]\u001b[0m\u001b[2;36m \u001b[0m\u001b[34mINFO    \u001b[0m colossalai - colossalai - INFO:                    \n",
      "\u001b[2;36m                    \u001b[0m         \u001b[35m/home/ryan/diss/msc_diss/sdspeech/model/sd_ex/\u001b[0m\u001b[95mtrain\u001b[0m\n",
      "\u001b[2;36m                    \u001b[0m         \u001b[95m_dreambooth_colossalai.py\u001b[0m:\u001b[1;36m449\u001b[0m main                 \n",
      "\u001b[2;36m                   \u001b[0m\u001b[2;36m \u001b[0m\u001b[34mINFO    \u001b[0m colossalai - colossalai - INFO: Loading            \n",
      "\u001b[2;36m                    \u001b[0m         text_encoder from CompVis/stable-diffusion-v1-\u001b[1;36m4\u001b[0m    \n",
      "\u001b[2;36m[06/16/23 15:01:35]\u001b[0m\u001b[2;36m \u001b[0m\u001b[34mINFO    \u001b[0m colossalai - colossalai - INFO:                    \n",
      "\u001b[2;36m                    \u001b[0m         \u001b[35m/home/ryan/diss/msc_diss/sdspeech/model/sd_ex/\u001b[0m\u001b[95mtrain\u001b[0m\n",
      "\u001b[2;36m                    \u001b[0m         \u001b[95m_dreambooth_colossalai.py\u001b[0m:\u001b[1;36m457\u001b[0m main                 \n",
      "\u001b[2;36m                   \u001b[0m\u001b[2;36m \u001b[0m\u001b[34mINFO    \u001b[0m colossalai - colossalai - INFO: Loading            \n",
      "\u001b[2;36m                    \u001b[0m         AutoencoderKL from CompVis/stable-diffusion-v1-\u001b[1;36m4\u001b[0m   \n",
      "\u001b[2;36m                   \u001b[0m\u001b[2;36m \u001b[0m\u001b[34mINFO    \u001b[0m colossalai - colossalai - INFO:                    \n",
      "\u001b[2;36m                    \u001b[0m         \u001b[35m/home/ryan/diss/msc_diss/sdspeech/model/sd_ex/\u001b[0m\u001b[95mtrain\u001b[0m\n",
      "\u001b[2;36m                    \u001b[0m         \u001b[95m_dreambooth_colossalai.py\u001b[0m:\u001b[1;36m466\u001b[0m main                 \n",
      "\u001b[2;36m                   \u001b[0m\u001b[2;36m \u001b[0m\u001b[34mINFO    \u001b[0m colossalai - colossalai - INFO: Loading            \n",
      "\u001b[2;36m                    \u001b[0m         UNet2DConditionModel from                          \n",
      "\u001b[2;36m                    \u001b[0m         CompVis/stable-diffusion-v1-\u001b[1;36m4\u001b[0m                      \n",
      "/home/ryan/miniconda3/envs/msc_diss/lib/python3.10/site-packages/colossalai/booster/booster.py:69: UserWarning: The plugin will control the accelerator, so the device argument will be ignored.\n",
      "  warnings.warn('The plugin will control the accelerator, so the device argument will be ignored.')\n",
      "/home/ryan/miniconda3/envs/msc_diss/lib/python3.10/site-packages/colossalai/booster/booster.py:75: UserWarning: The plugin will control the precision, so the mixed_precision argument will be ignored.\n",
      "  warnings.warn('The plugin will control the precision, so the mixed_precision argument will be ignored.')\n",
      "^C\n",
      "WARNING:torch.distributed.elastic.agent.server.api:Received 2 death signal, shutting down workers\n",
      "WARNING:torch.distributed.elastic.multiprocessing.api:Sending process 12689 closing signal SIGINT\n",
      "Error in sys.excepthook:\n",
      "Traceback (most recent call last):\n",
      "  File \"/home/ryan/miniconda3/envs/msc_diss/lib/python3.10/site-packages/rich/traceback.py\", line 103, in excepthook\n",
      "    Traceback.from_exception(\n",
      "  File \"/home/ryan/miniconda3/envs/msc_diss/lib/python3.10/site-packages/rich/traceback.py\", line 335, in from_exception\n",
      "    rich_traceback = cls.extract(\n",
      "  File \"/home/ryan/miniconda3/envs/msc_diss/lib/python3.10/site-packages/rich/traceback.py\", line 442, in extract\n",
      "    if frame_summary.f_locals.get(\"_rich_traceback_omit\", False):\n",
      "KeyboardInterrupt\n",
      "\n",
      "Original exception was:\n",
      "Traceback (most recent call last):\n",
      "  File \"/home/ryan/miniconda3/envs/msc_diss/lib/python3.10/site-packages/colossalai/kernel/op_builder/builder.py\", line 161, in load\n",
      "    op_module = self.import_op()\n",
      "  File \"/home/ryan/miniconda3/envs/msc_diss/lib/python3.10/site-packages/colossalai/kernel/op_builder/builder.py\", line 110, in import_op\n",
      "    return importlib.import_module(self.prebuilt_import_path)\n",
      "  File \"/home/ryan/miniconda3/envs/msc_diss/lib/python3.10/importlib/__init__.py\", line 126, in import_module\n",
      "    return _bootstrap._gcd_import(name[level:], package, level)\n",
      "  File \"<frozen importlib._bootstrap>\", line 1050, in _gcd_import\n",
      "  File \"<frozen importlib._bootstrap>\", line 1027, in _find_and_load\n",
      "  File \"<frozen importlib._bootstrap>\", line 1004, in _find_and_load_unlocked\n",
      "ModuleNotFoundError: No module named 'colossalai._C.cpu_adam'\n",
      "\n",
      "During handling of the above exception, another exception occurred:\n",
      "\n",
      "Traceback (most recent call last):\n",
      "  File \"/home/ryan/diss/msc_diss/sdspeech/model/sd_ex/train_dreambooth_colossalai.py\", line 695, in <module>\n",
      "    main(args)\n",
      "  File \"/home/ryan/diss/msc_diss/sdspeech/model/sd_ex/train_dreambooth_colossalai.py\", line 501, in main\n",
      "    optimizer = HybridAdam(unet.parameters(), lr=args.learning_rate, initial_scale=2**5, clipping_norm=args.max_grad_norm)\n",
      "  File \"/home/ryan/miniconda3/envs/msc_diss/lib/python3.10/site-packages/colossalai/nn/optimizer/hybrid_adam.py\", line 82, in __init__\n",
      "    cpu_optim = CPUAdamBuilder().load()\n",
      "  File \"/home/ryan/miniconda3/envs/msc_diss/lib/python3.10/site-packages/colossalai/kernel/op_builder/builder.py\", line 187, in load\n",
      "    op_module = load(name=self.name,\n",
      "  File \"/home/ryan/miniconda3/envs/msc_diss/lib/python3.10/site-packages/torch/utils/cpp_extension.py\", line 1284, in load\n",
      "    return _jit_compile(\n",
      "  File \"/home/ryan/miniconda3/envs/msc_diss/lib/python3.10/site-packages/torch/utils/cpp_extension.py\", line 1523, in _jit_compile\n",
      "    baton.wait()\n",
      "  File \"/home/ryan/miniconda3/envs/msc_diss/lib/python3.10/site-packages/torch/utils/file_baton.py\", line 42, in wait\n",
      "    time.sleep(self.wait_seconds)\n",
      "KeyboardInterrupt\n"
     ]
    }
   ],
   "source": [
    "!bash colossalai.sh\n"
   ]
  },
  {
   "cell_type": "code",
   "execution_count": null,
   "metadata": {},
   "outputs": [],
   "source": []
  }
 ],
 "metadata": {
  "kernelspec": {
   "display_name": "msc_diss_c",
   "language": "python",
   "name": "msc_diss_c"
  },
  "language_info": {
   "codemirror_mode": {
    "name": "ipython",
    "version": 3
   },
   "file_extension": ".py",
   "mimetype": "text/x-python",
   "name": "python",
   "nbconvert_exporter": "python",
   "pygments_lexer": "ipython3",
   "version": "3.10.11"
  },
  "orig_nbformat": 4
 },
 "nbformat": 4,
 "nbformat_minor": 2
}
