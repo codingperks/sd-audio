{
 "cells": [
  {
   "attachments": {},
   "cell_type": "markdown",
   "metadata": {},
   "source": [
    "# Spectrogram data preparation\n",
    "\n",
    "Aim: create a pipeline which creates a dataset of (spectrogram, caption) pairs\n",
    "\n",
    "1. Load from huggingface\n",
    "2. Inspect data\n",
    "3. Prepare dataset of first speaker\n"
   ]
  },
  {
   "cell_type": "code",
   "execution_count": 2,
   "metadata": {},
   "outputs": [],
   "source": [
    "import torchaudio\n",
    "import librosa\n",
    "import librosa.display\n",
    "import numpy as np\n",
    "from torchaudio.transforms import Spectrogram\n",
    "from torchvision.transforms import functional as tf\n",
    "import matplotlib.pyplot as plt"
   ]
  },
  {
   "cell_type": "code",
   "execution_count": 3,
   "metadata": {},
   "outputs": [
    {
     "data": {
      "text/plain": [
       "\" dataset_lists = list_datasets()\\n\\nprint(', '.join(dataset for dataset in dataset_lists)) \""
      ]
     },
     "execution_count": 3,
     "metadata": {},
     "output_type": "execute_result"
    }
   ],
   "source": [
    "# Check available datasetes\n",
    "\n",
    "from datasets import load_dataset, list_datasets\n",
    "\n",
    "\"\"\" dataset_lists = list_datasets()\n",
    "\n",
    "print(', '.join(dataset for dataset in dataset_lists)) \"\"\""
   ]
  },
  {
   "cell_type": "code",
   "execution_count": 35,
   "metadata": {},
   "outputs": [
    {
     "name": "stdout",
     "output_type": "stream",
     "text": [
      "Downloading and preparing dataset lj_speech/main to /home/ryan/.cache/huggingface/datasets/lj_speech/main/1.1.0/6e03b5308ab68705d902e2bbeaff59feb283307770fafb8d6704e604b6d179aa...\n"
     ]
    },
    {
     "data": {
      "application/vnd.jupyter.widget-view+json": {
       "model_id": "dfa05c323a96486ea714c00c5165092b",
       "version_major": 2,
       "version_minor": 0
      },
      "text/plain": [
       "Generating train split:   0%|          | 0/13100 [00:00<?, ? examples/s]"
      ]
     },
     "metadata": {},
     "output_type": "display_data"
    },
    {
     "name": "stdout",
     "output_type": "stream",
     "text": [
      "Dataset lj_speech downloaded and prepared to /home/ryan/.cache/huggingface/datasets/lj_speech/main/1.1.0/6e03b5308ab68705d902e2bbeaff59feb283307770fafb8d6704e604b6d179aa. Subsequent calls will reuse this data.\n"
     ]
    }
   ],
   "source": [
    "dataset = load_dataset('lj_speech', split='train')"
   ]
  },
  {
   "cell_type": "code",
   "execution_count": 36,
   "metadata": {},
   "outputs": [
    {
     "name": "stdout",
     "output_type": "stream",
     "text": [
      "Dataset({\n",
      "    features: ['id', 'audio', 'file', 'text', 'normalized_text'],\n",
      "    num_rows: 13100\n",
      "})\n"
     ]
    },
    {
     "data": {
      "text/plain": [
       "{'id': 'LJ001-0001',\n",
       " 'audio': {'path': '/home/ryan/.cache/huggingface/datasets/downloads/extracted/767c76e13c24c1cc26025e0fbcf1d4fe53cfaa6521aac12a67eac69b9fa07ab2/LJSpeech-1.1/wavs/LJ001-0001.wav',\n",
       "  'array': array([-7.32421875e-04, -7.62939453e-04, -6.40869141e-04, ...,\n",
       "          7.32421875e-04,  2.13623047e-04,  6.10351562e-05]),\n",
       "  'sampling_rate': 22050},\n",
       " 'file': '/home/ryan/.cache/huggingface/datasets/downloads/extracted/767c76e13c24c1cc26025e0fbcf1d4fe53cfaa6521aac12a67eac69b9fa07ab2/LJSpeech-1.1/wavs/LJ001-0001.wav',\n",
       " 'text': 'Printing, in the only sense with which we are at present concerned, differs from most if not from all the arts and crafts represented in the Exhibition',\n",
       " 'normalized_text': 'Printing, in the only sense with which we are at present concerned, differs from most if not from all the arts and crafts represented in the Exhibition'}"
      ]
     },
     "execution_count": 36,
     "metadata": {},
     "output_type": "execute_result"
    }
   ],
   "source": [
    "print(dataset)\n",
    "dataset[0]"
   ]
  },
  {
   "attachments": {},
   "cell_type": "markdown",
   "metadata": {},
   "source": [
    "Mel spectrogram conversion"
   ]
  },
  {
   "cell_type": "code",
   "execution_count": 37,
   "metadata": {},
   "outputs": [
    {
     "name": "stderr",
     "output_type": "stream",
     "text": [
      "/home/ryan/miniconda3/envs/msc_diss/lib/python3.10/site-packages/torchaudio/functional/functional.py:576: UserWarning: At least one mel filterbank has all zero values. The value for `n_mels` (80) may be set too high. Or, the value for `n_freqs` (129) may be set too low.\n",
      "  warnings.warn(\n"
     ]
    }
   ],
   "source": [
    "import torchaudio\n",
    "import torchaudio.transforms as transforms\n",
    "\n",
    "# Takes an existing dataset and creates a copy with a spectrogram columm - no prefix\n",
    "def transform_wav(dataset):    \n",
    "    transformed_data = []\n",
    "\n",
    "    for data in dataset:\n",
    "        waveform, sample_rate = torchaudio.load(data['audio']['path'], normalize=True)\n",
    "\n",
    "        # Parameters: number of fourier bins & mel filter banks\n",
    "        n_fft = 256 \n",
    "        n_mels = 80\n",
    "\n",
    "        transform = transforms.MelSpectrogram(\n",
    "            sample_rate=sample_rate,\n",
    "            n_fft=n_fft,\n",
    "            n_mels=n_mels\n",
    "        )\n",
    "        \n",
    "        spectrogram = transform(waveform)\n",
    "        \n",
    "        data['spectrogram'] = spectrogram\n",
    "        transformed_data.append(data)\n",
    "        \n",
    "    return transformed_data\n",
    "\n",
    "# Takes an existing dataset and creates a copy with a spectrogram column, allows selection of prefix\n",
    "def transform_wav(dataset, prefix):\n",
    "    prefix_len = len(prefix)\n",
    "    filtered_data = [d for d in dataset if d[\"id\"][:prefix_len] == prefix]\n",
    "    \n",
    "    transformed_data = []\n",
    "\n",
    "    for data in filtered_data:\n",
    "        waveform, sample_rate = torchaudio.load(data['audio']['path'], normalize=True)\n",
    "\n",
    "        # Parameters: number of fourier bins & mel filter banks\n",
    "        n_fft = 256 \n",
    "        n_mels = 80\n",
    "\n",
    "        transform = transforms.MelSpectrogram(\n",
    "            sample_rate=sample_rate,\n",
    "            n_fft=n_fft,\n",
    "            n_mels=n_mels\n",
    "        )\n",
    "        \n",
    "        spectrogram = transform(waveform)\n",
    "        \n",
    "        data['spectrogram'] = spectrogram\n",
    "        transformed_data.append(data)\n",
    "        \n",
    "    return transformed_data\n",
    "        \n",
    "\"\"\" \n",
    "Transformation back into\n",
    "invers_transform = torchaudio.transforms.InverseMelScale(sample_rate=sample_rate, n_stft=n_stft)\n",
    "grifflim_transform = torchaudio.transforms.GriffinLim(n_fft=n_fft)\n",
    "\n",
    "mel_specgram = transform(waveform)\n",
    "inverse_waveform = invers_transform(mel_specgram)\n",
    "pseudo_waveform = grifflim_transform(inverse_waveform) \"\"\"\n",
    "        \n",
    "test_dataset = transform_wav(dataset, \"LJ001\")\n",
    "    "
   ]
  },
  {
   "cell_type": "code",
   "execution_count": 38,
   "metadata": {},
   "outputs": [
    {
     "data": {
      "text/plain": [
       "{'id': 'LJ001-0001',\n",
       " 'audio': {'path': '/home/ryan/.cache/huggingface/datasets/downloads/extracted/767c76e13c24c1cc26025e0fbcf1d4fe53cfaa6521aac12a67eac69b9fa07ab2/LJSpeech-1.1/wavs/LJ001-0001.wav',\n",
       "  'array': array([-7.32421875e-04, -7.62939453e-04, -6.40869141e-04, ...,\n",
       "          7.32421875e-04,  2.13623047e-04,  6.10351562e-05]),\n",
       "  'sampling_rate': 22050},\n",
       " 'file': '/home/ryan/.cache/huggingface/datasets/downloads/extracted/767c76e13c24c1cc26025e0fbcf1d4fe53cfaa6521aac12a67eac69b9fa07ab2/LJSpeech-1.1/wavs/LJ001-0001.wav',\n",
       " 'text': 'Printing, in the only sense with which we are at present concerned, differs from most if not from all the arts and crafts represented in the Exhibition',\n",
       " 'normalized_text': 'Printing, in the only sense with which we are at present concerned, differs from most if not from all the arts and crafts represented in the Exhibition',\n",
       " 'spectrogram': tensor([[[0.0000e+00, 0.0000e+00, 0.0000e+00,  ..., 0.0000e+00,\n",
       "           0.0000e+00, 0.0000e+00],\n",
       "          [0.0000e+00, 0.0000e+00, 0.0000e+00,  ..., 0.0000e+00,\n",
       "           0.0000e+00, 0.0000e+00],\n",
       "          [7.6103e-06, 1.4500e-05, 3.4987e-05,  ..., 2.0573e-05,\n",
       "           3.2267e-05, 2.5223e-05],\n",
       "          ...,\n",
       "          [2.2611e-07, 6.3677e-07, 1.5128e-06,  ..., 4.6289e-06,\n",
       "           1.8998e-06, 3.4076e-06],\n",
       "          [4.4088e-07, 4.4563e-07, 4.7352e-07,  ..., 1.7870e-06,\n",
       "           5.5008e-07, 9.1339e-07],\n",
       "          [9.1918e-08, 1.0367e-07, 1.2164e-07,  ..., 4.8771e-07,\n",
       "           3.6096e-07, 3.5158e-07]]])}"
      ]
     },
     "execution_count": 38,
     "metadata": {},
     "output_type": "execute_result"
    }
   ],
   "source": []
  }
 ],
 "metadata": {
  "kernelspec": {
   "display_name": "msc_diss",
   "language": "python",
   "name": "python3"
  },
  "language_info": {
   "codemirror_mode": {
    "name": "ipython",
    "version": 3
   },
   "file_extension": ".py",
   "mimetype": "text/x-python",
   "name": "python",
   "nbconvert_exporter": "python",
   "pygments_lexer": "ipython3",
   "version": "3.10.11"
  },
  "orig_nbformat": 4,
  "vscode": {
   "interpreter": {
    "hash": "5a72e5e1b89d6aca93f43995c0113c69f11f03ee989f354bc28ea86012bfefd8"
   }
  }
 },
 "nbformat": 4,
 "nbformat_minor": 2
}
